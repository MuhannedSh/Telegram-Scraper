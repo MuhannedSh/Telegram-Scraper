{
  "nbformat": 4,
  "nbformat_minor": 0,
  "metadata": {
    "colab": {
      "provenance": [],
      "collapsed_sections": [
        "oYXHmf8yDdNd",
        "SyG8bzeCPiPy",
        "-98Ld0IRUbku",
        "Wyd6wTqJxuMn",
        "yUhEwWE62OwK",
        "FpcBQCek2C76",
        "xcy_LdGSbXAH",
        "bOUfChmq8K1S",
        "SrKFIMWZEiIS",
        "Q-7JPPX30fAv",
        "S-Uw-m1qB_1a",
        "ISoY1_WpCFo9"
      ]
    },
    "kernelspec": {
      "name": "python3",
      "display_name": "Python 3"
    },
    "language_info": {
      "name": "python"
    }
  },
  "cells": [
    {
      "cell_type": "markdown",
      "source": [
        "# **Telegram news groups data analysis**\n",
        "\n",
        "- Author: Muhanned Shaheen\n",
        "\n"
      ],
      "metadata": {
        "id": "fSWWvyMpP9RM"
      }
    },
    {
      "cell_type": "markdown",
      "source": [
        "# **Project Overview**\n",
        "- The project involves activating a Python Telegram Scraper to extract as much data as possible from selected Telegram channels (@RamallahNews,@FajrNews,@Almostashaar,@Meshheek)  during the timeframe from September 20 to September 30, 2024. In addition to data extraction, an analysis will be conducted to evaluate the number of posts per channel and assess engagement metrics, with a focus on identifying the most engaging channel based on the chosen KPIs."
      ],
      "metadata": {
        "id": "dzGjcFnLQ_fS"
      }
    },
    {
      "cell_type": "markdown",
      "source": [
        "# ***Importing and loading the data***\n",
        "\n",
        "\n",
        "\n"
      ],
      "metadata": {
        "id": "oYXHmf8yDdNd"
      }
    },
    {
      "cell_type": "code",
      "execution_count": null,
      "metadata": {
        "id": "XggUJbfuDVes"
      },
      "outputs": [],
      "source": [
        "import datetime as dt\n",
        "import pandas as pd\n",
        "import numpy as np\n",
        "import matplotlib.pyplot as plt\n",
        "import seaborn as sns\n",
        "from google.colab import files\n",
        "from matplotlib.ticker import FuncFormatter\n",
        "import re"
      ]
    },
    {
      "cell_type": "code",
      "source": [
        "#Loading the data from google drive\n",
        "fpath=\"/content/drive/MyDrive/Social Studio/1'st Interview - Assignment /FINAL_TG10_days_data_Analysis_with_05418.xlsx\"\n",
        "df=pd.read_excel(fpath)\n",
        "#previewing first 5 rows\n",
        "df.head()"
      ],
      "metadata": {
        "colab": {
          "base_uri": "https://localhost:8080/"
        },
        "id": "nGzN-3JGSuVV",
        "outputId": "644c32be-3c48-44f2-94d2-a6c24925c910"
      },
      "execution_count": null,
      "outputs": [
        {
          "output_type": "execute_result",
          "data": {
            "text/plain": [
              "   Type      Group      Author ID  \\\n",
              "0  text  @meshheek -1001200257707   \n",
              "1  text  @meshheek -1001200257707   \n",
              "2  text  @meshheek -1001200257707   \n",
              "3  text  @meshheek -1001200257707   \n",
              "4  text  @meshheek -1001200257707   \n",
              "\n",
              "                                             Content                 Date  \\\n",
              "0  **اذا دخلتم إلى ارضنا\\nفرقكم ستدمر\\nألويتكم ست...  2024-09-30 21:39:32   \n",
              "1  **في أول هجوم على استعدادات الدخول البري\\n\\nحز...  2024-09-30 21:33:36   \n",
              "2  يا هلا ومرحب\\n\\nرد السيد على تهديدات دخول العد...  2024-09-30 21:30:04   \n",
              "3                                                NaN  2024-09-30 21:08:42   \n",
              "4  **استمرار الاشتباكات بين المقاومة وسلطة الجواس...  2024-09-30 20:54:11   \n",
              "\n",
              "   Message ID Author  Views                     Reactions  Shares  Media  \\\n",
              "0       51249    NaN  99053  ❤ 1002 🫡 197 👍 78 🔥 71 😢 21      147   True   \n",
              "1       51248    NaN  96296        ❤ 653 🔥 137 🫡 61 👍 33       46  False   \n",
              "2       51247    NaN  95440   ❤ 710 🔥 144 🫡 79 👍 44 😢 15      122   True   \n",
              "3       51246    NaN  95980    🤬 491 👍 49 🔥 19 😢 16 🫡 12        8   True   \n",
              "4       51245    NaN  90710    🔥 601 🤬 190 👍 30 ❤ 24 😢 6       29   True   \n",
              "\n",
              "                           Url Comments List  \n",
              "0  https://t.me/meshheek/51249            []  \n",
              "1  https://t.me/meshheek/51248            []  \n",
              "2  https://t.me/meshheek/51247            []  \n",
              "3  https://t.me/meshheek/51246            []  \n",
              "4  https://t.me/meshheek/51245            []  "
            ],
            "text/html": [
              "\n",
              "  <div id=\"df-1ce51972-4a0c-4557-93bc-91d7130853d3\" class=\"colab-df-container\">\n",
              "    <div>\n",
              "<style scoped>\n",
              "    .dataframe tbody tr th:only-of-type {\n",
              "        vertical-align: middle;\n",
              "    }\n",
              "\n",
              "    .dataframe tbody tr th {\n",
              "        vertical-align: top;\n",
              "    }\n",
              "\n",
              "    .dataframe thead th {\n",
              "        text-align: right;\n",
              "    }\n",
              "</style>\n",
              "<table border=\"1\" class=\"dataframe\">\n",
              "  <thead>\n",
              "    <tr style=\"text-align: right;\">\n",
              "      <th></th>\n",
              "      <th>Type</th>\n",
              "      <th>Group</th>\n",
              "      <th>Author ID</th>\n",
              "      <th>Content</th>\n",
              "      <th>Date</th>\n",
              "      <th>Message ID</th>\n",
              "      <th>Author</th>\n",
              "      <th>Views</th>\n",
              "      <th>Reactions</th>\n",
              "      <th>Shares</th>\n",
              "      <th>Media</th>\n",
              "      <th>Url</th>\n",
              "      <th>Comments List</th>\n",
              "    </tr>\n",
              "  </thead>\n",
              "  <tbody>\n",
              "    <tr>\n",
              "      <th>0</th>\n",
              "      <td>text</td>\n",
              "      <td>@meshheek</td>\n",
              "      <td>-1001200257707</td>\n",
              "      <td>**اذا دخلتم إلى ارضنا\\nفرقكم ستدمر\\nألويتكم ست...</td>\n",
              "      <td>2024-09-30 21:39:32</td>\n",
              "      <td>51249</td>\n",
              "      <td>NaN</td>\n",
              "      <td>99053</td>\n",
              "      <td>❤ 1002 🫡 197 👍 78 🔥 71 😢 21</td>\n",
              "      <td>147</td>\n",
              "      <td>True</td>\n",
              "      <td>https://t.me/meshheek/51249</td>\n",
              "      <td>[]</td>\n",
              "    </tr>\n",
              "    <tr>\n",
              "      <th>1</th>\n",
              "      <td>text</td>\n",
              "      <td>@meshheek</td>\n",
              "      <td>-1001200257707</td>\n",
              "      <td>**في أول هجوم على استعدادات الدخول البري\\n\\nحز...</td>\n",
              "      <td>2024-09-30 21:33:36</td>\n",
              "      <td>51248</td>\n",
              "      <td>NaN</td>\n",
              "      <td>96296</td>\n",
              "      <td>❤ 653 🔥 137 🫡 61 👍 33</td>\n",
              "      <td>46</td>\n",
              "      <td>False</td>\n",
              "      <td>https://t.me/meshheek/51248</td>\n",
              "      <td>[]</td>\n",
              "    </tr>\n",
              "    <tr>\n",
              "      <th>2</th>\n",
              "      <td>text</td>\n",
              "      <td>@meshheek</td>\n",
              "      <td>-1001200257707</td>\n",
              "      <td>يا هلا ومرحب\\n\\nرد السيد على تهديدات دخول العد...</td>\n",
              "      <td>2024-09-30 21:30:04</td>\n",
              "      <td>51247</td>\n",
              "      <td>NaN</td>\n",
              "      <td>95440</td>\n",
              "      <td>❤ 710 🔥 144 🫡 79 👍 44 😢 15</td>\n",
              "      <td>122</td>\n",
              "      <td>True</td>\n",
              "      <td>https://t.me/meshheek/51247</td>\n",
              "      <td>[]</td>\n",
              "    </tr>\n",
              "    <tr>\n",
              "      <th>3</th>\n",
              "      <td>text</td>\n",
              "      <td>@meshheek</td>\n",
              "      <td>-1001200257707</td>\n",
              "      <td>NaN</td>\n",
              "      <td>2024-09-30 21:08:42</td>\n",
              "      <td>51246</td>\n",
              "      <td>NaN</td>\n",
              "      <td>95980</td>\n",
              "      <td>🤬 491 👍 49 🔥 19 😢 16 🫡 12</td>\n",
              "      <td>8</td>\n",
              "      <td>True</td>\n",
              "      <td>https://t.me/meshheek/51246</td>\n",
              "      <td>[]</td>\n",
              "    </tr>\n",
              "    <tr>\n",
              "      <th>4</th>\n",
              "      <td>text</td>\n",
              "      <td>@meshheek</td>\n",
              "      <td>-1001200257707</td>\n",
              "      <td>**استمرار الاشتباكات بين المقاومة وسلطة الجواس...</td>\n",
              "      <td>2024-09-30 20:54:11</td>\n",
              "      <td>51245</td>\n",
              "      <td>NaN</td>\n",
              "      <td>90710</td>\n",
              "      <td>🔥 601 🤬 190 👍 30 ❤ 24 😢 6</td>\n",
              "      <td>29</td>\n",
              "      <td>True</td>\n",
              "      <td>https://t.me/meshheek/51245</td>\n",
              "      <td>[]</td>\n",
              "    </tr>\n",
              "  </tbody>\n",
              "</table>\n",
              "</div>\n",
              "    <div class=\"colab-df-buttons\">\n",
              "\n",
              "  <div class=\"colab-df-container\">\n",
              "    <button class=\"colab-df-convert\" onclick=\"convertToInteractive('df-1ce51972-4a0c-4557-93bc-91d7130853d3')\"\n",
              "            title=\"Convert this dataframe to an interactive table.\"\n",
              "            style=\"display:none;\">\n",
              "\n",
              "  <svg xmlns=\"http://www.w3.org/2000/svg\" height=\"24px\" viewBox=\"0 -960 960 960\">\n",
              "    <path d=\"M120-120v-720h720v720H120Zm60-500h600v-160H180v160Zm220 220h160v-160H400v160Zm0 220h160v-160H400v160ZM180-400h160v-160H180v160Zm440 0h160v-160H620v160ZM180-180h160v-160H180v160Zm440 0h160v-160H620v160Z\"/>\n",
              "  </svg>\n",
              "    </button>\n",
              "\n",
              "  <style>\n",
              "    .colab-df-container {\n",
              "      display:flex;\n",
              "      gap: 12px;\n",
              "    }\n",
              "\n",
              "    .colab-df-convert {\n",
              "      background-color: #E8F0FE;\n",
              "      border: none;\n",
              "      border-radius: 50%;\n",
              "      cursor: pointer;\n",
              "      display: none;\n",
              "      fill: #1967D2;\n",
              "      height: 32px;\n",
              "      padding: 0 0 0 0;\n",
              "      width: 32px;\n",
              "    }\n",
              "\n",
              "    .colab-df-convert:hover {\n",
              "      background-color: #E2EBFA;\n",
              "      box-shadow: 0px 1px 2px rgba(60, 64, 67, 0.3), 0px 1px 3px 1px rgba(60, 64, 67, 0.15);\n",
              "      fill: #174EA6;\n",
              "    }\n",
              "\n",
              "    .colab-df-buttons div {\n",
              "      margin-bottom: 4px;\n",
              "    }\n",
              "\n",
              "    [theme=dark] .colab-df-convert {\n",
              "      background-color: #3B4455;\n",
              "      fill: #D2E3FC;\n",
              "    }\n",
              "\n",
              "    [theme=dark] .colab-df-convert:hover {\n",
              "      background-color: #434B5C;\n",
              "      box-shadow: 0px 1px 3px 1px rgba(0, 0, 0, 0.15);\n",
              "      filter: drop-shadow(0px 1px 2px rgba(0, 0, 0, 0.3));\n",
              "      fill: #FFFFFF;\n",
              "    }\n",
              "  </style>\n",
              "\n",
              "    <script>\n",
              "      const buttonEl =\n",
              "        document.querySelector('#df-1ce51972-4a0c-4557-93bc-91d7130853d3 button.colab-df-convert');\n",
              "      buttonEl.style.display =\n",
              "        google.colab.kernel.accessAllowed ? 'block' : 'none';\n",
              "\n",
              "      async function convertToInteractive(key) {\n",
              "        const element = document.querySelector('#df-1ce51972-4a0c-4557-93bc-91d7130853d3');\n",
              "        const dataTable =\n",
              "          await google.colab.kernel.invokeFunction('convertToInteractive',\n",
              "                                                    [key], {});\n",
              "        if (!dataTable) return;\n",
              "\n",
              "        const docLinkHtml = 'Like what you see? Visit the ' +\n",
              "          '<a target=\"_blank\" href=https://colab.research.google.com/notebooks/data_table.ipynb>data table notebook</a>'\n",
              "          + ' to learn more about interactive tables.';\n",
              "        element.innerHTML = '';\n",
              "        dataTable['output_type'] = 'display_data';\n",
              "        await google.colab.output.renderOutput(dataTable, element);\n",
              "        const docLink = document.createElement('div');\n",
              "        docLink.innerHTML = docLinkHtml;\n",
              "        element.appendChild(docLink);\n",
              "      }\n",
              "    </script>\n",
              "  </div>\n",
              "\n",
              "\n",
              "<div id=\"df-1a33a80b-e640-49a3-87f7-fbea88dcbe9e\">\n",
              "  <button class=\"colab-df-quickchart\" onclick=\"quickchart('df-1a33a80b-e640-49a3-87f7-fbea88dcbe9e')\"\n",
              "            title=\"Suggest charts\"\n",
              "            style=\"display:none;\">\n",
              "\n",
              "<svg xmlns=\"http://www.w3.org/2000/svg\" height=\"24px\"viewBox=\"0 0 24 24\"\n",
              "     width=\"24px\">\n",
              "    <g>\n",
              "        <path d=\"M19 3H5c-1.1 0-2 .9-2 2v14c0 1.1.9 2 2 2h14c1.1 0 2-.9 2-2V5c0-1.1-.9-2-2-2zM9 17H7v-7h2v7zm4 0h-2V7h2v10zm4 0h-2v-4h2v4z\"/>\n",
              "    </g>\n",
              "</svg>\n",
              "  </button>\n",
              "\n",
              "<style>\n",
              "  .colab-df-quickchart {\n",
              "      --bg-color: #E8F0FE;\n",
              "      --fill-color: #1967D2;\n",
              "      --hover-bg-color: #E2EBFA;\n",
              "      --hover-fill-color: #174EA6;\n",
              "      --disabled-fill-color: #AAA;\n",
              "      --disabled-bg-color: #DDD;\n",
              "  }\n",
              "\n",
              "  [theme=dark] .colab-df-quickchart {\n",
              "      --bg-color: #3B4455;\n",
              "      --fill-color: #D2E3FC;\n",
              "      --hover-bg-color: #434B5C;\n",
              "      --hover-fill-color: #FFFFFF;\n",
              "      --disabled-bg-color: #3B4455;\n",
              "      --disabled-fill-color: #666;\n",
              "  }\n",
              "\n",
              "  .colab-df-quickchart {\n",
              "    background-color: var(--bg-color);\n",
              "    border: none;\n",
              "    border-radius: 50%;\n",
              "    cursor: pointer;\n",
              "    display: none;\n",
              "    fill: var(--fill-color);\n",
              "    height: 32px;\n",
              "    padding: 0;\n",
              "    width: 32px;\n",
              "  }\n",
              "\n",
              "  .colab-df-quickchart:hover {\n",
              "    background-color: var(--hover-bg-color);\n",
              "    box-shadow: 0 1px 2px rgba(60, 64, 67, 0.3), 0 1px 3px 1px rgba(60, 64, 67, 0.15);\n",
              "    fill: var(--button-hover-fill-color);\n",
              "  }\n",
              "\n",
              "  .colab-df-quickchart-complete:disabled,\n",
              "  .colab-df-quickchart-complete:disabled:hover {\n",
              "    background-color: var(--disabled-bg-color);\n",
              "    fill: var(--disabled-fill-color);\n",
              "    box-shadow: none;\n",
              "  }\n",
              "\n",
              "  .colab-df-spinner {\n",
              "    border: 2px solid var(--fill-color);\n",
              "    border-color: transparent;\n",
              "    border-bottom-color: var(--fill-color);\n",
              "    animation:\n",
              "      spin 1s steps(1) infinite;\n",
              "  }\n",
              "\n",
              "  @keyframes spin {\n",
              "    0% {\n",
              "      border-color: transparent;\n",
              "      border-bottom-color: var(--fill-color);\n",
              "      border-left-color: var(--fill-color);\n",
              "    }\n",
              "    20% {\n",
              "      border-color: transparent;\n",
              "      border-left-color: var(--fill-color);\n",
              "      border-top-color: var(--fill-color);\n",
              "    }\n",
              "    30% {\n",
              "      border-color: transparent;\n",
              "      border-left-color: var(--fill-color);\n",
              "      border-top-color: var(--fill-color);\n",
              "      border-right-color: var(--fill-color);\n",
              "    }\n",
              "    40% {\n",
              "      border-color: transparent;\n",
              "      border-right-color: var(--fill-color);\n",
              "      border-top-color: var(--fill-color);\n",
              "    }\n",
              "    60% {\n",
              "      border-color: transparent;\n",
              "      border-right-color: var(--fill-color);\n",
              "    }\n",
              "    80% {\n",
              "      border-color: transparent;\n",
              "      border-right-color: var(--fill-color);\n",
              "      border-bottom-color: var(--fill-color);\n",
              "    }\n",
              "    90% {\n",
              "      border-color: transparent;\n",
              "      border-bottom-color: var(--fill-color);\n",
              "    }\n",
              "  }\n",
              "</style>\n",
              "\n",
              "  <script>\n",
              "    async function quickchart(key) {\n",
              "      const quickchartButtonEl =\n",
              "        document.querySelector('#' + key + ' button');\n",
              "      quickchartButtonEl.disabled = true;  // To prevent multiple clicks.\n",
              "      quickchartButtonEl.classList.add('colab-df-spinner');\n",
              "      try {\n",
              "        const charts = await google.colab.kernel.invokeFunction(\n",
              "            'suggestCharts', [key], {});\n",
              "      } catch (error) {\n",
              "        console.error('Error during call to suggestCharts:', error);\n",
              "      }\n",
              "      quickchartButtonEl.classList.remove('colab-df-spinner');\n",
              "      quickchartButtonEl.classList.add('colab-df-quickchart-complete');\n",
              "    }\n",
              "    (() => {\n",
              "      let quickchartButtonEl =\n",
              "        document.querySelector('#df-1a33a80b-e640-49a3-87f7-fbea88dcbe9e button');\n",
              "      quickchartButtonEl.style.display =\n",
              "        google.colab.kernel.accessAllowed ? 'block' : 'none';\n",
              "    })();\n",
              "  </script>\n",
              "</div>\n",
              "\n",
              "    </div>\n",
              "  </div>\n"
            ],
            "application/vnd.google.colaboratory.intrinsic+json": {
              "type": "dataframe",
              "variable_name": "df",
              "summary": "{\n  \"name\": \"df\",\n  \"rows\": 5418,\n  \"fields\": [\n    {\n      \"column\": \"Type\",\n      \"properties\": {\n        \"dtype\": \"category\",\n        \"num_unique_values\": 1,\n        \"samples\": [\n          \"text\"\n        ],\n        \"semantic_type\": \"\",\n        \"description\": \"\"\n      }\n    },\n    {\n      \"column\": \"Group\",\n      \"properties\": {\n        \"dtype\": \"category\",\n        \"num_unique_values\": 4,\n        \"samples\": [\n          \"@fajernews\"\n        ],\n        \"semantic_type\": \"\",\n        \"description\": \"\"\n      }\n    },\n    {\n      \"column\": \"Author ID\",\n      \"properties\": {\n        \"dtype\": \"number\",\n        \"std\": 100354682,\n        \"min\": -1001475851155,\n        \"max\": -1001200257707,\n        \"num_unique_values\": 4,\n        \"samples\": [\n          -1001253130437\n        ],\n        \"semantic_type\": \"\",\n        \"description\": \"\"\n      }\n    },\n    {\n      \"column\": \"Content\",\n      \"properties\": {\n        \"dtype\": \"string\",\n        \"num_unique_values\": 4813,\n        \"samples\": [\n          \"\\u23fa**\\u0627\\u0644\\u0645\\u062a\\u062d\\u062f\\u062b \\u0628\\u0627\\u0633\\u0645 \\u0627\\u0644\\u062c\\u064a\\u0634 \\u0627\\u0644\\u0625\\u0633\\u0631\\u0627\\u0626\\u064a\\u0644\\u064a:**\\n\\u0642\\u0645\\u0646\\u0627 \\u0628\\u0634\\u0646 \\u0645\\u0648\\u062c\\u0629 \\u0645\\u0646 \\u0627\\u0644\\u0647\\u062c\\u0645\\u0627\\u062a \\u0627\\u0644\\u0642\\u0648\\u064a\\u0629 \\u0644\\u062a\\u062f\\u0645\\u064a\\u0631 \\u0642\\u062f\\u0631\\u0627\\u062a \\u062d\\u0632\\u0628 \\u0627\\u0644\\u0644\\u0647 ..\\n\\ud83d\\udd35 https://t.me/Almustashaar\"\n        ],\n        \"semantic_type\": \"\",\n        \"description\": \"\"\n      }\n    },\n    {\n      \"column\": \"Date\",\n      \"properties\": {\n        \"dtype\": \"object\",\n        \"num_unique_values\": 4942,\n        \"samples\": [\n          \"2024-09-26 20:43:10\"\n        ],\n        \"semantic_type\": \"\",\n        \"description\": \"\"\n      }\n    },\n    {\n      \"column\": \"Message ID\",\n      \"properties\": {\n        \"dtype\": \"number\",\n        \"std\": 35310,\n        \"min\": 41825,\n        \"max\": 132632,\n        \"num_unique_values\": 5418,\n        \"samples\": [\n          42802\n        ],\n        \"semantic_type\": \"\",\n        \"description\": \"\"\n      }\n    },\n    {\n      \"column\": \"Author\",\n      \"properties\": {\n        \"dtype\": \"category\",\n        \"num_unique_values\": 2,\n        \"samples\": [\n          \"\\u0643\\u0645\\u0627\\u0644 \\u0639\\u0644\\u064a\\u0627\\u0646\"\n        ],\n        \"semantic_type\": \"\",\n        \"description\": \"\"\n      }\n    },\n    {\n      \"column\": \"Views\",\n      \"properties\": {\n        \"dtype\": \"number\",\n        \"std\": 45774,\n        \"min\": 7111,\n        \"max\": 226978,\n        \"num_unique_values\": 5032,\n        \"samples\": [\n          20865\n        ],\n        \"semantic_type\": \"\",\n        \"description\": \"\"\n      }\n    },\n    {\n      \"column\": \"Reactions\",\n      \"properties\": {\n        \"dtype\": \"string\",\n        \"num_unique_values\": 4567,\n        \"samples\": [\n          \"\\ud83d\\udc4d 16 \\ud83d\\ude4f 8 \\u2764 7 \\ud83d\\udc4f 2 \"\n        ],\n        \"semantic_type\": \"\",\n        \"description\": \"\"\n      }\n    },\n    {\n      \"column\": \"Shares\",\n      \"properties\": {\n        \"dtype\": \"number\",\n        \"std\": 23,\n        \"min\": 0,\n        \"max\": 608,\n        \"num_unique_values\": 140,\n        \"samples\": [\n          608\n        ],\n        \"semantic_type\": \"\",\n        \"description\": \"\"\n      }\n    },\n    {\n      \"column\": \"Media\",\n      \"properties\": {\n        \"dtype\": \"boolean\",\n        \"num_unique_values\": 2,\n        \"samples\": [\n          false\n        ],\n        \"semantic_type\": \"\",\n        \"description\": \"\"\n      }\n    },\n    {\n      \"column\": \"Url\",\n      \"properties\": {\n        \"dtype\": \"string\",\n        \"num_unique_values\": 5418,\n        \"samples\": [\n          \"https://t.me/Almustashaar/42802\"\n        ],\n        \"semantic_type\": \"\",\n        \"description\": \"\"\n      }\n    },\n    {\n      \"column\": \"Comments List\",\n      \"properties\": {\n        \"dtype\": \"category\",\n        \"num_unique_values\": 202,\n        \"samples\": [\n          \"[{\\\"Type\\\": \\\"comment\\\", \\\"Comment Group\\\": \\\"@fajernews\\\", \\\"Comment Author ID\\\": 5675734922, \\\"Comment Content\\\": \\\"\\\\u062e\\\\u0644\\\\u0627\\\\u0635 \\\\u062e\\\\u0644\\\\u0627\\\\u0635 \\\\u062e\\\\u0644\\\\u0627\\\\u0635 \\\\u064a\\\\u0627 \\\\u0627\\\\u064a\\\\u0631\\\\u0627\\\\u0646 \\\\u0627\\\\u0644\\\\u0641\\\\u0631\\\\u0633 \\\\u0644\\\\u0645 \\\\u0646\\\\u062b\\\\u0642 \\\\u0641\\\\u064a\\\\u0643\\\\u0645 \\\\u0628\\\\u0639\\\\u062f \\\\u0643\\\\u0644 \\\\u0627\\\\u0644\\\\u0630\\\\u064a \\\\u062d\\\\u0635\\\\u0644\\\", \\\"Comment Date\\\": \\\"2024-09-28 17:06:58\\\", \\\"Comment Message ID\\\": 1214342, \\\"Comment Author\\\": null, \\\"Comment Views\\\": null, \\\"Comment Reactions\\\": \\\"\\\\ud83d\\\\udc4d 2 \\\\ud83e\\\\udd2e 1 \\\", \\\"Comment Shares\\\": null, \\\"Comment Media\\\": \\\"False\\\", \\\"Comment Url\\\": \\\"https://t.me/fajernews/132088?comment=1214342\\\"}, {\\\"Type\\\": \\\"comment\\\", \\\"Comment Group\\\": \\\"@fajernews\\\", \\\"Comment Author ID\\\": 7353846996, \\\"Comment Content\\\": \\\"\\\\u0639\\\\u0644\\\\u0642\\\\u0646\\\\u0627 \\\\u0648\\\\u0632\\\\u0647\\\\u0642\\\\u0646\\\\u0627\\\", \\\"Comment Date\\\": \\\"2024-09-28 10:25:12\\\", \\\"Comment Message ID\\\": 1214087, \\\"Comment Author\\\": null, \\\"Comment Views\\\": null, \\\"Comment Reactions\\\": \\\"\\\", \\\"Comment Shares\\\": null, \\\"Comment Media\\\": \\\"False\\\", \\\"Comment Url\\\": \\\"https://t.me/fajernews/132088?comment=1214087\\\"}, {\\\"Type\\\": \\\"comment\\\", \\\"Comment Group\\\": \\\"@fajernews\\\", \\\"Comment Author ID\\\": 7801980431, \\\"Comment Content\\\": \\\"\\\\u0627\\\\u064a\\\\u0631\\\\u0627\\\\u0646 \\\\u0627\\\\u0644\\\\u0639\\\\u0642\\\\u0631\\\\u0628\\\\u0629\\\", \\\"Comment Date\\\": \\\"2024-09-28 10:20:49\\\", \\\"Comment Message ID\\\": 1214080, \\\"Comment Author\\\": null, \\\"Comment Views\\\": null, \\\"Comment Reactions\\\": \\\"\\\", \\\"Comment Shares\\\": null, \\\"Comment Media\\\": \\\"False\\\", \\\"Comment Url\\\": \\\"https://t.me/fajernews/132088?comment=1214080\\\"}, {\\\"Type\\\": \\\"comment\\\", \\\"Comment Group\\\": \\\"@fajernews\\\", \\\"Comment Author ID\\\": 7728687806, \\\"Comment Content\\\": \\\"\\\\u0633\\\\u0644\\\\u0627\\\\u0645 \\\\u0627\\\\u06cc\\\\u0631\\\\u0627\\\\u0646\\\", \\\"Comment Date\\\": \\\"2024-09-28 10:16:35\\\", \\\"Comment Message ID\\\": 1214073, \\\"Comment Author\\\": null, \\\"Comment Views\\\": null, \\\"Comment Reactions\\\": \\\"\\\\u2764 1 \\\", \\\"Comment Shares\\\": null, \\\"Comment Media\\\": \\\"False\\\", \\\"Comment Url\\\": \\\"https://t.me/fajernews/132088?comment=1214073\\\"}]\"\n        ],\n        \"semantic_type\": \"\",\n        \"description\": \"\"\n      }\n    }\n  ]\n}"
            }
          },
          "metadata": {},
          "execution_count": 3
        }
      ]
    },
    {
      "cell_type": "markdown",
      "source": [
        "# ***Exploring and cleaning the data***"
      ],
      "metadata": {
        "id": "SyG8bzeCPiPy"
      }
    },
    {
      "cell_type": "code",
      "source": [
        "#Display data frame information\n",
        "print(df.info())\n",
        "print('\\n')\n",
        "\n",
        "#Print the number of null values\n",
        "print(f'- Number Of Null values is : {df.isna().sum().sum()}')\n",
        "\n",
        "#Print the number of dublicated values\n",
        "print(f'- Number Of Dublicated Values: {df.duplicated().sum()}')\n",
        "\n",
        "#Print the shape of the dataset\n",
        "print(f'- Shape of the data: {df.shape}')"
      ],
      "metadata": {
        "colab": {
          "base_uri": "https://localhost:8080/"
        },
        "id": "v_BrlnyTUC5Q",
        "outputId": "f92ffdda-dab3-46c6-b9cc-e3fe429d6d34"
      },
      "execution_count": null,
      "outputs": [
        {
          "output_type": "stream",
          "name": "stdout",
          "text": [
            "<class 'pandas.core.frame.DataFrame'>\n",
            "RangeIndex: 5418 entries, 0 to 5417\n",
            "Data columns (total 13 columns):\n",
            " #   Column         Non-Null Count  Dtype \n",
            "---  ------         --------------  ----- \n",
            " 0   Type           5418 non-null   object\n",
            " 1   Group          5418 non-null   object\n",
            " 2   Author ID      5418 non-null   int64 \n",
            " 3   Content        4860 non-null   object\n",
            " 4   Date           5418 non-null   object\n",
            " 5   Message ID     5418 non-null   int64 \n",
            " 6   Author         1555 non-null   object\n",
            " 7   Views          5418 non-null   int64 \n",
            " 8   Reactions      4868 non-null   object\n",
            " 9   Shares         5418 non-null   int64 \n",
            " 10  Media          5418 non-null   bool  \n",
            " 11  Url            5418 non-null   object\n",
            " 12  Comments List  5418 non-null   object\n",
            "dtypes: bool(1), int64(4), object(8)\n",
            "memory usage: 513.4+ KB\n",
            "None\n",
            "\n",
            "\n",
            "- Number Of Null values is : 4971\n",
            "- Number Of Dublicated Values: 0\n",
            "- Shape of the data: (5418, 13)\n"
          ]
        }
      ]
    },
    {
      "cell_type": "markdown",
      "source": [
        "- the number of null values is 4971 which, representing ~92% of the data. This is a very high propation that needs to be further explored"
      ],
      "metadata": {
        "id": "9jdDASmPVyhE"
      }
    },
    {
      "cell_type": "markdown",
      "source": [
        "****Data Types****\n",
        "\n",
        "- Integer:`4`\n",
        "- Object:`8`\n",
        "- Bool: `1`\n",
        "\n"
      ],
      "metadata": {
        "id": "4n6GZHL3-J6N"
      }
    },
    {
      "cell_type": "markdown",
      "source": [
        "## Exploring the null values"
      ],
      "metadata": {
        "id": "-98Ld0IRUbku"
      }
    },
    {
      "cell_type": "code",
      "source": [
        "# Storing columns that contain null values\n",
        "null_cols=df.columns[df.isna().any()]\n",
        "\n",
        "#display the number of null values in each column that contain null values\n",
        "for column in null_cols:\n",
        "    null_count=df[column].isna().sum()\n",
        "    print(f\"Number of null values in column '{column}': {null_count}\")"
      ],
      "metadata": {
        "colab": {
          "base_uri": "https://localhost:8080/"
        },
        "id": "byg-_RH_a7ku",
        "outputId": "b08595af-5cb2-4607-974c-5058d408fa68"
      },
      "execution_count": null,
      "outputs": [
        {
          "output_type": "stream",
          "name": "stdout",
          "text": [
            "Number of null values in column 'Content': 558\n",
            "Number of null values in column 'Author': 3863\n",
            "Number of null values in column 'Reactions': 550\n"
          ]
        }
      ]
    },
    {
      "cell_type": "markdown",
      "source": [
        "### Content feature null values exploration\n",
        "  \n"
      ],
      "metadata": {
        "id": "Wyd6wTqJxuMn"
      }
    },
    {
      "cell_type": "code",
      "source": [
        "null_content=df[df['Content'].isna()]\n",
        "\n",
        "#Count the number of rows where Media is True in the null content rows\n",
        "media_count=null_content[null_content['Media']==True].shape[0]\n",
        "\n",
        "\n",
        "# Display the results\n",
        "print(f\"Total null values in 'Content' feature: {null_content.shape[0]}\")\n",
        "print(f\"Number of null content rows where media is True: {media_count}\")"
      ],
      "metadata": {
        "colab": {
          "base_uri": "https://localhost:8080/"
        },
        "id": "yKbYa-lwvBWz",
        "outputId": "878969af-bd2b-44c4-fdfe-dc3a7884cae4"
      },
      "execution_count": null,
      "outputs": [
        {
          "output_type": "stream",
          "name": "stdout",
          "text": [
            "Total null values in 'Content' feature: 558\n",
            "Number of null content rows where media is True: 558\n"
          ]
        }
      ]
    },
    {
      "cell_type": "markdown",
      "source": [
        "- The Content feature has 558 null values , representing ~10 % of the data set. after exploring whether it's a media or a text data type , we found that all the missing content representing a media data type but without content. Therefore, missing values in will be handled by filling them with 'Media only' to indicate it's a media without text, since dropping it will affect the engagement channels analysis."
      ],
      "metadata": {
        "id": "G0-Ul81WxySg"
      }
    },
    {
      "cell_type": "code",
      "source": [
        "#Fill null values in Content with 'Media only'\n",
        "df['Content'].fillna('Media only',inplace=True)"
      ],
      "metadata": {
        "id": "NdrFO2Jy0SNI"
      },
      "execution_count": null,
      "outputs": []
    },
    {
      "cell_type": "markdown",
      "source": [
        "### Author feature null values exploration"
      ],
      "metadata": {
        "id": "yUhEwWE62OwK"
      }
    },
    {
      "cell_type": "markdown",
      "source": [
        "-  By selecting the needed features that will be used in our analysis, Author column will be droped. The Author column has 3865 null values , representing 77% of the data . rendering it quasi-constant. Its high rate of missing data means it provides no significant insights and does not influence the report Therefore, removing it from the dataset is advisable to enhance analysis quality and focus on more relevant features."
      ],
      "metadata": {
        "id": "x52GjTqL2SiT"
      }
    },
    {
      "cell_type": "code",
      "source": [
        "#Droping Author feature\n",
        "df.drop(columns='Author',inplace=True)"
      ],
      "metadata": {
        "id": "S8ASuBMY5lUD"
      },
      "execution_count": null,
      "outputs": []
    },
    {
      "cell_type": "markdown",
      "source": [
        "### Reactions null values exploration\n",
        "  "
      ],
      "metadata": {
        "id": "FpcBQCek2C76"
      }
    },
    {
      "cell_type": "markdown",
      "source": [
        "- The Reactions feature has 558 null values, representing ~10 % of the data set.\n",
        "  missing values will be handled through filling them with 'no reaction', since dropping it will affect the engagement channels analysis, as there pieces of content has no reaction."
      ],
      "metadata": {
        "id": "Igsw6KNS3f38"
      }
    },
    {
      "cell_type": "code",
      "source": [
        "df['Reactions'].fillna('No Reactions',inplace=True)"
      ],
      "metadata": {
        "id": "uQgY4gX56Ugn"
      },
      "execution_count": null,
      "outputs": []
    },
    {
      "cell_type": "code",
      "source": [
        "#Final null values checking\n",
        "df.isna().sum().sum()"
      ],
      "metadata": {
        "colab": {
          "base_uri": "https://localhost:8080/"
        },
        "id": "aVYBdckB6xMS",
        "outputId": "e7df317c-a18e-403a-f2e1-75270629fa8c"
      },
      "execution_count": null,
      "outputs": [
        {
          "output_type": "execute_result",
          "data": {
            "text/plain": [
              "0"
            ]
          },
          "metadata": {},
          "execution_count": 10
        }
      ]
    },
    {
      "cell_type": "markdown",
      "source": [
        "## inconsistent and inappropriate  categories"
      ],
      "metadata": {
        "id": "xcy_LdGSbXAH"
      }
    },
    {
      "cell_type": "code",
      "source": [
        "#Finding inconsistent categories of data\n",
        "cat_columns=df.select_dtypes(object).columns\n",
        "for col in cat_columns:\n",
        "  print(f'Value For {col} column is: ')\n",
        "  print(df[col].value_counts())\n",
        "  print('\\n')"
      ],
      "metadata": {
        "colab": {
          "base_uri": "https://localhost:8080/"
        },
        "id": "5vGqVYul7Geo",
        "outputId": "377da3ab-57a3-41db-d5e4-d2881ce5b616"
      },
      "execution_count": null,
      "outputs": [
        {
          "output_type": "stream",
          "name": "stdout",
          "text": [
            "Value For Type column is: \n",
            "Type\n",
            "text    5418\n",
            "Name: count, dtype: int64\n",
            "\n",
            "\n",
            "Value For Group column is: \n",
            "Group\n",
            "@fajernews       2566\n",
            "@ramallahnew     1555\n",
            "@Almustashaar     934\n",
            "@meshheek         363\n",
            "Name: count, dtype: int64\n",
            "\n",
            "\n",
            "Value For Content column is: \n",
            "Content\n",
            "Media only                                                                                                                                                                                                                                                                                                                                                                                                                558\n",
            "أسعار صرف العملات                                                                                                                                                                                                                                                                                                                                                                                                           8\n",
            "**عاجل| مجددًا.. غارات إسرائيلية متتالية على الضاحية الجنوبية في بيروت**                                                                                                                                                                                                                                                                                                                                                    3\n",
            "**مشاهد للحرائق والخراب الذي أحدثته ضربات حزب الله لمنطقة \"الكريوت\" جنوب عكا المحتلة.**                                                                                                                                                                                                                                                                                                                                     2\n",
            "⏺**صفد الان ..**\\n🔵 https://t.me/Almustashaar                                                                                                                                                                                                                                                                                                                                                                               2\n",
            "                                                                                                                                                                                                                                                                                                                                                                                                                         ... \n",
            "مصادر محلية: قوات الاحتلال تقتحم بلدة بدو شمال غرب القدس المحتلة.                                                                                                                                                                                                                                                                                                                                                           1\n",
            "مصادر محلية: قوات الاحتلال تقتحم محيط مدخل مخيم الجلزون شمال رام الله.                                                                                                                                                                                                                                                                                                                                                      1\n",
            "**عاجل| بيان صادر عن المقاومة الاسلامية في العراق : **\\n\\n\"استمراراً بنهجنا في مقاومة الاحتلال، ونُصرةً لأهلنا في فلسطين، وردّاً على المجازر التي يرتكبها الكيان الغاصب بحقّ المدنيين من أطفال ونساء وشيوخ، هاجم مجاهدو المقاومة الإسلامية في العراق اليوم الأربعاء 25-9-2024 بالطيران المسيّر هدفاً قرب غور الاردن بأراضينا المحتلة، وتؤكد المقاومة الإسلامية، استمرار العمليات في دكّ معاقل الأعداء بوتيرة متصاعدة\".      1\n",
            "جانب من انتشار جيش الاحتلال قرب مدخل مخيم الجلزون شمال رام الله                                                                                                                                                                                                                                                                                                                                                             1\n",
            "⏺**العقيد احتياط حيزي نعما:**\\nنحن في الطريق إلى حرب واسعة النطاق في الشمال ستبدأ في الوقت المناسب لنا - لقد حان الوقت لضرب حزب الله ..\\n\\n⏺**اللواء قائد القوات البرية:**\\nلا فرصة أفضل من الآن للدخول بريا والسيطرة على جنوب لبنان ..\\n🔵 @Almustashaar                                                                                                                                                                    1\n",
            "Name: count, Length: 4814, dtype: int64\n",
            "\n",
            "\n",
            "Value For Date column is: \n",
            "Date\n",
            "2024-09-23 14:53:57    9\n",
            "2024-09-26 04:21:28    9\n",
            "2024-09-28 06:14:36    8\n",
            "2024-09-28 17:18:00    7\n",
            "2024-09-23 14:36:47    7\n",
            "                      ..\n",
            "2024-09-24 21:47:46    1\n",
            "2024-09-24 21:53:02    1\n",
            "2024-09-24 21:53:33    1\n",
            "2024-09-24 21:54:28    1\n",
            "2024-09-20 06:43:37    1\n",
            "Name: count, Length: 4942, dtype: int64\n",
            "\n",
            "\n",
            "Value For Reactions column is: \n",
            "Reactions\n",
            "No Reactions               550\n",
            "👍 5                         12\n",
            "👍 6                         10\n",
            "👍 10                         8\n",
            "🤬 8                          7\n",
            "                          ... \n",
            "🔥 17 👍 3 🤬 1 🤨 1             1\n",
            "💔 13 👍 8 ❤ 1 🤬 1             1\n",
            "👍 9 💔 8 🙏 2 🔥 1              1\n",
            "❤ 11                         1\n",
            "👍 277 😢 43 ❤‍🔥 31 ❤ 19       1\n",
            "Name: count, Length: 4568, dtype: int64\n",
            "\n",
            "\n",
            "Value For Url column is: \n",
            "Url\n",
            "https://t.me/meshheek/51249        1\n",
            "https://t.me/ramallahnew/86377     1\n",
            "https://t.me/ramallahnew/86369     1\n",
            "https://t.me/ramallahnew/86370     1\n",
            "https://t.me/ramallahnew/86371     1\n",
            "                                  ..\n",
            "https://t.me/fajernews/131164      1\n",
            "https://t.me/fajernews/131165      1\n",
            "https://t.me/fajernews/131166      1\n",
            "https://t.me/fajernews/131167      1\n",
            "https://t.me/Almustashaar/41825    1\n",
            "Name: count, Length: 5418, dtype: int64\n",
            "\n",
            "\n",
            "Value For Comments List column is: \n",
            "Comments List\n",
            "[]                                                                                                                                                                                                                                                                                                                                                                                                                                                                                                                                                                                                                                                                                                                                                                                                                                                                                                                                                                                                                                                                                                                                                                                                                                                                                                                                                                                                                                                                                                      5217\n",
            "[{\"Type\": \"comment\", \"Comment Group\": \"@fajernews\", \"Comment Author ID\": 1798284256, \"Comment Content\": \"\\u0644\\u0627 \\u062d\\u0648\\u0644 \\u0648\\u0644\\u0627 \\u0642\\u0648\\u0629 \\u0627\\u0644\\u0627 \\u0628\\u0627\\u0644\\u0644\\u0647 \\ud83d\\ude14\\ud83d\\udc94\", \"Comment Date\": \"2024-09-26 17:12:27\", \"Comment Message ID\": 1212685, \"Comment Author\": null, \"Comment Views\": null, \"Comment Reactions\": \"\", \"Comment Shares\": null, \"Comment Media\": \"False\", \"Comment Url\": \"https://t.me/fajernews/131722?comment=1212685\"}]                                                                                                                                                                                                                                                                                                                                                                                                                                                                                                                                                                                                                                                                                                                                                                                                                                                                                                                                                                               1\n",
            "[{\"Type\": \"comment\", \"Comment Group\": \"@fajernews\", \"Comment Author ID\": 6193520668, \"Comment Content\": \"\\u0646\\u0639\\u0645 \\u0635\\u062d\\u064a\\u062d\", \"Comment Date\": \"2024-09-26 23:44:56\", \"Comment Message ID\": 1212977, \"Comment Author\": null, \"Comment Views\": null, \"Comment Reactions\": \"\", \"Comment Shares\": null, \"Comment Media\": \"False\", \"Comment Url\": \"https://t.me/fajernews/131761?comment=1212977\"}, {\"Type\": \"comment\", \"Comment Group\": \"@fajernews\", \"Comment Author ID\": 5597333311, \"Comment Content\": \"\\u064a\\u0639\\u0645\\u064a \\u0627\\u0644\\u064a\\u0645\\u0646 \\u0647\\u0627\\u064a\\ud83d\\ude09\", \"Comment Date\": \"2024-09-26 23:42:49\", \"Comment Message ID\": 1212975, \"Comment Author\": null, \"Comment Views\": null, \"Comment Reactions\": \"\", \"Comment Shares\": null, \"Comment Media\": \"False\", \"Comment Url\": \"https://t.me/fajernews/131761?comment=1212975\"}, {\"Type\": \"comment\", \"Comment Group\": \"@fajernews\", \"Comment Author ID\": 2096867599, \"Comment Content\": \"\\u0639\\u0632\\u064a\\u0632 \\u064a\\u0627 \\u064a\\u0645\\u0646\\u2764\\ufe0f\\u2764\\ufe0f\\ud83d\\udd25\", \"Comment Date\": \"2024-09-26 23:33:06\", \"Comment Message ID\": 1212967, \"Comment Author\": null, \"Comment Views\": null, \"Comment Reactions\": \"\", \"Comment Shares\": null, \"Comment Media\": \"False\", \"Comment Url\": \"https://t.me/fajernews/131761?comment=1212967\"}]                                                                                                                                          1\n",
            "[{\"Type\": \"comment\", \"Comment Group\": \"@fajernews\", \"Comment Author ID\": 5955990010, \"Comment Content\": \"\\u0625\\u0646\\u0647 \\u0645\\u0646 \\u0627\\u0644\\u064a\\u0645\\u0646 \\u0648\\u0625\\u0646\\u0647 \\u0628\\u0633\\u0645 \\u0627\\u0644\\u0644\\u0647 \\u0627\\u0644\\u0631\\u062d\\u0645\\u0646 \\u0627\\u0644\\u0631\\u062d\\u064a\\u0645\\n\\n\\u0641\\u0648\\u0642\\u0647\\u0645 \\u0641\\u0648\\u0642\\u0647\\u0645 \\u064a\\u0627\\u0628\\u0646 \\u0627\\u0644\\u0646\\u0628\\u064a\\n\\u064a\\u0627\\u0631\\u0628 \\u0633\\u062f\\u062f\\n\\n\\u0648\\u0645\\u0627\\u0631\\u0645\\u064a\\u062a \\u0625\\u0630 \\u0631\\u0645\\u064a\\u062a \\u0648\\u0644\\u0643\\u0646 \\u0627\\u0644\\u0644\\u0647 \\u0631\\u0645\\u0649\", \"Comment Date\": \"2024-09-26 22:29:49\", \"Comment Message ID\": 1212915, \"Comment Author\": null, \"Comment Views\": null, \"Comment Reactions\": \"\", \"Comment Shares\": null, \"Comment Media\": \"False\", \"Comment Url\": \"https://t.me/fajernews/131760?comment=1212915\"}]                                                                                                                                                                                                                                                                                                                                                                                                                                                                                                                                                                                   1\n",
            "[{\"Type\": \"comment\", \"Comment Group\": \"@fajernews\", \"Comment Author ID\": 6526554164, \"Comment Content\": \"\\u0648\\u0644\\u0639\\u062a\\u062a \\u0627\\u0644\\u0647\\u0645\\u0645 \\u0633\\u062f\\u062f\", \"Comment Date\": \"2024-09-26 21:46:21\", \"Comment Message ID\": 1212856, \"Comment Author\": null, \"Comment Views\": null, \"Comment Reactions\": \"\", \"Comment Shares\": null, \"Comment Media\": \"False\", \"Comment Url\": \"https://t.me/fajernews/131740?comment=1212856\"}]                                                                                                                                                                                                                                                                                                                                                                                                                                                                                                                                                                                                                                                                                                                                                                                                                                                                                                                                                                                                                                               1\n",
            "                                                                                                                                                                                                                                                                                                                                                                                                                                                                                                                                                                                                                                                                                                                                                                                                                                                                                                                                                                                                                                                                                                                                                                                                                                                                                                                                                                                                                                                                                                        ... \n",
            "[{\"Type\": \"comment\", \"Comment Group\": \"@fajernews\", \"Comment Author ID\": 5750035902, \"Comment Content\": \"\\u0639\\u0646\\u062f\\u064a \\u0627\\u062d\\u0633\\u0627\\u0633 \\u0627\\u0646\\u0647 \\u0645\\u0627 \\u0627\\u0633\\u062a\\u0634\\u0647\\u062f \\u0648\\u0645\\u0627 \\u0635\\u0627\\u0631\\u0644\\u0648 \\u0627\\u0634\\u064a \\u0627\\u064a\\u0627\\u0645 \\u0648\\u0627\\u0646 \\u0634\\u0627\\u0621\\u0627\\u0644\\u0644\\u0647 \\u064a\\u0637\\u0644\\u0639 \\u064a\\u0635\\u062f\\u0645 \\u0627\\u0644\\u0639\\u0631\\u0628 \\u0627\\u0644\\u062e\\u0648\\u0646 \\u0642\\u0628\\u0644 \\u0627\\u0644\\u064a\\u0647\\u0648\\u062f\", \"Comment Date\": \"2024-09-29 11:27:49\", \"Comment Message ID\": 1215446, \"Comment Author\": null, \"Comment Views\": null, \"Comment Reactions\": \"\\ud83d\\ude48 2 \\ud83e\\udd70 1 \\ud83e\\udd13 1 \", \"Comment Shares\": null, \"Comment Media\": \"False\", \"Comment Url\": \"https://t.me/fajernews/132210?comment=1215446\"}, {\"Type\": \"comment\", \"Comment Group\": \"@fajernews\", \"Comment Author ID\": 1706798083, \"Comment Content\": \"\\u0637\\u064a\\u0628 \\u0643\\u064a\\u0641 \\u0627\\u0639\\u0644\\u0646\\u0648\\u0627 \\u0627\\u063a\\u062a\\u064a\\u0627\\u0644\\u0648 \\u0642\\u0628\\u0644 \\u0645\\u0627 \\u064a\\u0644\\u0627\\u0642\\u0648\\u0627 \\u0627\\u0644\\u062c\\u062b\\u0629\\u061f\", \"Comment Date\": \"2024-09-29 11:25:27\", \"Comment Message ID\": 1215440, \"Comment Author\": null, \"Comment Views\": null, \"Comment Reactions\": \"\", \"Comment Shares\": null, \"Comment Media\": \"False\", \"Comment Url\": \"https://t.me/fajernews/132210?comment=1215440\"}]       1\n",
            "[{\"Type\": \"comment\", \"Comment Group\": \"@fajernews\", \"Comment Author ID\": 5780517104, \"Comment Content\": \"\\u0628\\u0639\\u0636 \\u0627\\u0644\\u062f\\u064a\\u0646 \\u0644\\u0627 \\u064a\\u0645\\u0643\\u0646 \\u0627\\u0644\\u0648\\u0641\\u0627\\u0621 \\u0628\\u0647 \\ud83d\\ude14\\ud83d\\udc94\", \"Comment Date\": \"2024-09-29 10:33:15\", \"Comment Message ID\": 1215394, \"Comment Author\": null, \"Comment Views\": null, \"Comment Reactions\": \"\", \"Comment Shares\": null, \"Comment Media\": \"False\", \"Comment Url\": \"https://t.me/fajernews/132201?comment=1215394\"}]                                                                                                                                                                                                                                                                                                                                                                                                                                                                                                                                                                                                                                                                                                                                                                                                                                                                                                                                                             1\n",
            "[{\"Type\": \"comment\", \"Comment Group\": \"@fajernews\", \"Comment Author ID\": 6527681269, \"Comment Content\": \"\\u0627\\u0642\\u062a\\u062d\\u0645\\u0648\\u0627 \\u0639\\u0642\\u0627\\u0628\\u0627 \\u0645\\u0634 \\u0637\\u0648\\u0628\\u0627\\u0635 \\u0627\\u0644\\u0625\\u0635\\u0627\\u0628\\u0627\\u062a \\u0641\\u064a \\u0639\\u0642\\u0627\\u0628\\u0627 \\u0645\\u0634 \\u0641\\u064a \\u0637\\u0648\\u0628\\u0627\\u0635\", \"Comment Date\": \"2024-09-29 09:18:58\", \"Comment Message ID\": 1215366, \"Comment Author\": null, \"Comment Views\": null, \"Comment Reactions\": \"\", \"Comment Shares\": null, \"Comment Media\": \"False\", \"Comment Url\": \"https://t.me/fajernews/132181?comment=1215366\"}]                                                                                                                                                                                                                                                                                                                                                                                                                                                                                                                                                                                                                                                                                                                                                                                                                                                    1\n",
            "[{\"Type\": \"comment\", \"Comment Group\": \"@fajernews\", \"Comment Author ID\": 1586104139, \"Comment Content\": \"\\u0627\\u062e\\u0631\\u062a\\u0643\\u0645 \\u0647\\u0646\\u0627\\u0643 \\u0623\\u0646 \\u0634\\u0627\\u0621 \\u0627\\u0644\\u0644\\u0647 \\u062a\\u0639\\u0627\\u0644\\u0649 \\u0627\\u0644\\u064a\\u0648\\u0645 \\u062a\\u0636\\u062d\\u0643 \\u0648\\u063a\\u062f\\u0627 \\u0633\\u0648\\u0641 \\u062a\\u0628\\u0643\\u064a \\u062f\\u0645 \\u0639\\u0644\\u064a \\u062c\\u0645\\u064a\\u0639 \\u0627\\u0634\\u0643\\u0627\\u0644\\u0643\", \"Comment Date\": \"2024-09-29 07:41:31\", \"Comment Message ID\": 1215334, \"Comment Author\": null, \"Comment Views\": null, \"Comment Reactions\": \"\", \"Comment Shares\": null, \"Comment Media\": \"False\", \"Comment Url\": \"https://t.me/fajernews/132180?comment=1215334\"}, {\"Type\": \"comment\", \"Comment Group\": \"@fajernews\", \"Comment Author ID\": 5780517104, \"Comment Content\": \"\\u062d\\u0633\\u0628\\u0646\\u0627 \\u0627\\u0644\\u0644\\u0647 \\u0648\\u0646\\u0639\\u0645 \\u0627\\u0644\\u0648\\u0643\\u064a\\u0644 \\ud83d\\udc94\", \"Comment Date\": \"2024-09-29 07:35:49\", \"Comment Message ID\": 1215332, \"Comment Author\": null, \"Comment Views\": null, \"Comment Reactions\": \"\", \"Comment Shares\": null, \"Comment Media\": \"False\", \"Comment Url\": \"https://t.me/fajernews/132180?comment=1215332\"}]                                                                                                                                                                                                                                 1\n",
            "[{\"Type\": \"comment\", \"Comment Group\": \"@Almustashaar\", \"Comment Author ID\": 5583378797, \"Comment Content\": \"U\", \"Comment Date\": \"2024-10-01 19:10:53\", \"Comment Message ID\": 121765, \"Comment Author\": null, \"Comment Views\": null, \"Comment Reactions\": \"\", \"Comment Shares\": null, \"Comment Media\": \"False\", \"Comment Url\": \"https://t.me/Almustashaar/42849?comment=121765\"}]                                                                                                                                                                                                                                                                                                                                                                                                                                                                                                                                                                                                                                                                                                                                                                                                                                                                                                                                                                                                                                                                                                                           1\n",
            "Name: count, Length: 202, dtype: int64\n",
            "\n",
            "\n"
          ]
        }
      ]
    },
    {
      "cell_type": "markdown",
      "source": [
        "- There are no inconsistent values , but the group names will be adjusted for future analysis and insights."
      ],
      "metadata": {
        "id": "2BhxkVNp_lTb"
      }
    },
    {
      "cell_type": "code",
      "source": [
        "#Replace Group column values with the appropriate values\n",
        "df['Group']=df['Group'].replace({'@fajernews': 'Fajer news',\n",
        "                                   '@ramallahnew': 'Ramallah news',\n",
        "                                   '@Almustashaar': 'Almustashaar',\n",
        "                                   '@meshheek': 'meshheek'})\n",
        "\n"
      ],
      "metadata": {
        "id": "NUBtQoqAROc4"
      },
      "execution_count": null,
      "outputs": []
    },
    {
      "cell_type": "markdown",
      "source": [
        "## Checking impossible values"
      ],
      "metadata": {
        "id": "bOUfChmq8K1S"
      }
    },
    {
      "cell_type": "code",
      "source": [
        "# Display the summary statistics\n",
        "print(f\"Summary Statistics for Numerical Columns: \\n {df.describe().round(2)}\")"
      ],
      "metadata": {
        "colab": {
          "base_uri": "https://localhost:8080/"
        },
        "id": "yFhbYwUc71TE",
        "outputId": "ecd61489-3726-4913-81b9-5411f741ede8"
      },
      "execution_count": null,
      "outputs": [
        {
          "output_type": "stream",
          "name": "stdout",
          "text": [
            "Summary Statistics for Numerical Columns: \n",
            "           Author ID  Message ID      Views   Shares\n",
            "count  5.418000e+03     5418.00    5418.00  5418.00\n",
            "mean  -1.001323e+12    97686.95   42377.59     6.93\n",
            "std    1.003547e+08    35310.02   45774.29    23.98\n",
            "min   -1.001476e+12    41825.00    7111.00     0.00\n",
            "25%   -1.001476e+12    85556.25   14297.25     0.00\n",
            "50%   -1.001253e+12    86919.50   20415.00     1.00\n",
            "75%   -1.001253e+12   131251.75   36297.75     3.00\n",
            "max   -1.001200e+12   132632.00  226978.00   608.00\n"
          ]
        }
      ]
    },
    {
      "cell_type": "markdown",
      "source": [
        "- There are no impossible value."
      ],
      "metadata": {
        "id": "vWaw4Eni9Cr1"
      }
    },
    {
      "cell_type": "markdown",
      "source": [
        "-"
      ],
      "metadata": {
        "id": "RKqXHMjMY3RQ"
      }
    },
    {
      "cell_type": "markdown",
      "source": [
        "# ***Stakeholder Questions***"
      ],
      "metadata": {
        "id": "SrKFIMWZEiIS"
      }
    },
    {
      "cell_type": "markdown",
      "source": [
        "- Since data in contains rows represent different points in time ,it is considered time series data."
      ],
      "metadata": {
        "id": "uHAbxyghFtO9"
      }
    },
    {
      "cell_type": "code",
      "source": [
        "#Convert Date column into datetime dataype\n",
        "df['Date']=pd.to_datetime(df['Date'])"
      ],
      "metadata": {
        "id": "d6SYskPPGX9u"
      },
      "execution_count": null,
      "outputs": []
    },
    {
      "cell_type": "code",
      "source": [
        "#Set date column as the index\n",
        "df.set_index('Date',inplace=True)"
      ],
      "metadata": {
        "id": "LinwcppSHhqB"
      },
      "execution_count": null,
      "outputs": []
    },
    {
      "cell_type": "code",
      "source": [
        "df.head()"
      ],
      "metadata": {
        "colab": {
          "base_uri": "https://localhost:8080/",
          "height": 341
        },
        "collapsed": true,
        "id": "8u6OlL3MJ8CS",
        "outputId": "eeec8d80-6942-4865-d4e8-63cd1a1e25d1"
      },
      "execution_count": null,
      "outputs": [
        {
          "output_type": "execute_result",
          "data": {
            "text/plain": [
              "                     Type     Group      Author ID  \\\n",
              "Date                                                 \n",
              "2024-09-30 21:39:32  text  meshheek -1001200257707   \n",
              "2024-09-30 21:33:36  text  meshheek -1001200257707   \n",
              "2024-09-30 21:30:04  text  meshheek -1001200257707   \n",
              "2024-09-30 21:08:42  text  meshheek -1001200257707   \n",
              "2024-09-30 20:54:11  text  meshheek -1001200257707   \n",
              "\n",
              "                                                               Content  \\\n",
              "Date                                                                     \n",
              "2024-09-30 21:39:32  **اذا دخلتم إلى ارضنا\\nفرقكم ستدمر\\nألويتكم ست...   \n",
              "2024-09-30 21:33:36  **في أول هجوم على استعدادات الدخول البري\\n\\nحز...   \n",
              "2024-09-30 21:30:04  يا هلا ومرحب\\n\\nرد السيد على تهديدات دخول العد...   \n",
              "2024-09-30 21:08:42                                         Media only   \n",
              "2024-09-30 20:54:11  **استمرار الاشتباكات بين المقاومة وسلطة الجواس...   \n",
              "\n",
              "                     Message ID  Views                     Reactions  Shares  \\\n",
              "Date                                                                           \n",
              "2024-09-30 21:39:32       51249  99053  ❤ 1002 🫡 197 👍 78 🔥 71 😢 21      147   \n",
              "2024-09-30 21:33:36       51248  96296        ❤ 653 🔥 137 🫡 61 👍 33       46   \n",
              "2024-09-30 21:30:04       51247  95440   ❤ 710 🔥 144 🫡 79 👍 44 😢 15      122   \n",
              "2024-09-30 21:08:42       51246  95980    🤬 491 👍 49 🔥 19 😢 16 🫡 12        8   \n",
              "2024-09-30 20:54:11       51245  90710    🔥 601 🤬 190 👍 30 ❤ 24 😢 6       29   \n",
              "\n",
              "                     Media                          Url Comments List  \n",
              "Date                                                                   \n",
              "2024-09-30 21:39:32   True  https://t.me/meshheek/51249            []  \n",
              "2024-09-30 21:33:36  False  https://t.me/meshheek/51248            []  \n",
              "2024-09-30 21:30:04   True  https://t.me/meshheek/51247            []  \n",
              "2024-09-30 21:08:42   True  https://t.me/meshheek/51246            []  \n",
              "2024-09-30 20:54:11   True  https://t.me/meshheek/51245            []  "
            ],
            "text/html": [
              "\n",
              "  <div id=\"df-812a7010-6770-4a32-b360-36e80da4862a\" class=\"colab-df-container\">\n",
              "    <div>\n",
              "<style scoped>\n",
              "    .dataframe tbody tr th:only-of-type {\n",
              "        vertical-align: middle;\n",
              "    }\n",
              "\n",
              "    .dataframe tbody tr th {\n",
              "        vertical-align: top;\n",
              "    }\n",
              "\n",
              "    .dataframe thead th {\n",
              "        text-align: right;\n",
              "    }\n",
              "</style>\n",
              "<table border=\"1\" class=\"dataframe\">\n",
              "  <thead>\n",
              "    <tr style=\"text-align: right;\">\n",
              "      <th></th>\n",
              "      <th>Type</th>\n",
              "      <th>Group</th>\n",
              "      <th>Author ID</th>\n",
              "      <th>Content</th>\n",
              "      <th>Message ID</th>\n",
              "      <th>Views</th>\n",
              "      <th>Reactions</th>\n",
              "      <th>Shares</th>\n",
              "      <th>Media</th>\n",
              "      <th>Url</th>\n",
              "      <th>Comments List</th>\n",
              "    </tr>\n",
              "    <tr>\n",
              "      <th>Date</th>\n",
              "      <th></th>\n",
              "      <th></th>\n",
              "      <th></th>\n",
              "      <th></th>\n",
              "      <th></th>\n",
              "      <th></th>\n",
              "      <th></th>\n",
              "      <th></th>\n",
              "      <th></th>\n",
              "      <th></th>\n",
              "      <th></th>\n",
              "    </tr>\n",
              "  </thead>\n",
              "  <tbody>\n",
              "    <tr>\n",
              "      <th>2024-09-30 21:39:32</th>\n",
              "      <td>text</td>\n",
              "      <td>meshheek</td>\n",
              "      <td>-1001200257707</td>\n",
              "      <td>**اذا دخلتم إلى ارضنا\\nفرقكم ستدمر\\nألويتكم ست...</td>\n",
              "      <td>51249</td>\n",
              "      <td>99053</td>\n",
              "      <td>❤ 1002 🫡 197 👍 78 🔥 71 😢 21</td>\n",
              "      <td>147</td>\n",
              "      <td>True</td>\n",
              "      <td>https://t.me/meshheek/51249</td>\n",
              "      <td>[]</td>\n",
              "    </tr>\n",
              "    <tr>\n",
              "      <th>2024-09-30 21:33:36</th>\n",
              "      <td>text</td>\n",
              "      <td>meshheek</td>\n",
              "      <td>-1001200257707</td>\n",
              "      <td>**في أول هجوم على استعدادات الدخول البري\\n\\nحز...</td>\n",
              "      <td>51248</td>\n",
              "      <td>96296</td>\n",
              "      <td>❤ 653 🔥 137 🫡 61 👍 33</td>\n",
              "      <td>46</td>\n",
              "      <td>False</td>\n",
              "      <td>https://t.me/meshheek/51248</td>\n",
              "      <td>[]</td>\n",
              "    </tr>\n",
              "    <tr>\n",
              "      <th>2024-09-30 21:30:04</th>\n",
              "      <td>text</td>\n",
              "      <td>meshheek</td>\n",
              "      <td>-1001200257707</td>\n",
              "      <td>يا هلا ومرحب\\n\\nرد السيد على تهديدات دخول العد...</td>\n",
              "      <td>51247</td>\n",
              "      <td>95440</td>\n",
              "      <td>❤ 710 🔥 144 🫡 79 👍 44 😢 15</td>\n",
              "      <td>122</td>\n",
              "      <td>True</td>\n",
              "      <td>https://t.me/meshheek/51247</td>\n",
              "      <td>[]</td>\n",
              "    </tr>\n",
              "    <tr>\n",
              "      <th>2024-09-30 21:08:42</th>\n",
              "      <td>text</td>\n",
              "      <td>meshheek</td>\n",
              "      <td>-1001200257707</td>\n",
              "      <td>Media only</td>\n",
              "      <td>51246</td>\n",
              "      <td>95980</td>\n",
              "      <td>🤬 491 👍 49 🔥 19 😢 16 🫡 12</td>\n",
              "      <td>8</td>\n",
              "      <td>True</td>\n",
              "      <td>https://t.me/meshheek/51246</td>\n",
              "      <td>[]</td>\n",
              "    </tr>\n",
              "    <tr>\n",
              "      <th>2024-09-30 20:54:11</th>\n",
              "      <td>text</td>\n",
              "      <td>meshheek</td>\n",
              "      <td>-1001200257707</td>\n",
              "      <td>**استمرار الاشتباكات بين المقاومة وسلطة الجواس...</td>\n",
              "      <td>51245</td>\n",
              "      <td>90710</td>\n",
              "      <td>🔥 601 🤬 190 👍 30 ❤ 24 😢 6</td>\n",
              "      <td>29</td>\n",
              "      <td>True</td>\n",
              "      <td>https://t.me/meshheek/51245</td>\n",
              "      <td>[]</td>\n",
              "    </tr>\n",
              "  </tbody>\n",
              "</table>\n",
              "</div>\n",
              "    <div class=\"colab-df-buttons\">\n",
              "\n",
              "  <div class=\"colab-df-container\">\n",
              "    <button class=\"colab-df-convert\" onclick=\"convertToInteractive('df-812a7010-6770-4a32-b360-36e80da4862a')\"\n",
              "            title=\"Convert this dataframe to an interactive table.\"\n",
              "            style=\"display:none;\">\n",
              "\n",
              "  <svg xmlns=\"http://www.w3.org/2000/svg\" height=\"24px\" viewBox=\"0 -960 960 960\">\n",
              "    <path d=\"M120-120v-720h720v720H120Zm60-500h600v-160H180v160Zm220 220h160v-160H400v160Zm0 220h160v-160H400v160ZM180-400h160v-160H180v160Zm440 0h160v-160H620v160ZM180-180h160v-160H180v160Zm440 0h160v-160H620v160Z\"/>\n",
              "  </svg>\n",
              "    </button>\n",
              "\n",
              "  <style>\n",
              "    .colab-df-container {\n",
              "      display:flex;\n",
              "      gap: 12px;\n",
              "    }\n",
              "\n",
              "    .colab-df-convert {\n",
              "      background-color: #E8F0FE;\n",
              "      border: none;\n",
              "      border-radius: 50%;\n",
              "      cursor: pointer;\n",
              "      display: none;\n",
              "      fill: #1967D2;\n",
              "      height: 32px;\n",
              "      padding: 0 0 0 0;\n",
              "      width: 32px;\n",
              "    }\n",
              "\n",
              "    .colab-df-convert:hover {\n",
              "      background-color: #E2EBFA;\n",
              "      box-shadow: 0px 1px 2px rgba(60, 64, 67, 0.3), 0px 1px 3px 1px rgba(60, 64, 67, 0.15);\n",
              "      fill: #174EA6;\n",
              "    }\n",
              "\n",
              "    .colab-df-buttons div {\n",
              "      margin-bottom: 4px;\n",
              "    }\n",
              "\n",
              "    [theme=dark] .colab-df-convert {\n",
              "      background-color: #3B4455;\n",
              "      fill: #D2E3FC;\n",
              "    }\n",
              "\n",
              "    [theme=dark] .colab-df-convert:hover {\n",
              "      background-color: #434B5C;\n",
              "      box-shadow: 0px 1px 3px 1px rgba(0, 0, 0, 0.15);\n",
              "      filter: drop-shadow(0px 1px 2px rgba(0, 0, 0, 0.3));\n",
              "      fill: #FFFFFF;\n",
              "    }\n",
              "  </style>\n",
              "\n",
              "    <script>\n",
              "      const buttonEl =\n",
              "        document.querySelector('#df-812a7010-6770-4a32-b360-36e80da4862a button.colab-df-convert');\n",
              "      buttonEl.style.display =\n",
              "        google.colab.kernel.accessAllowed ? 'block' : 'none';\n",
              "\n",
              "      async function convertToInteractive(key) {\n",
              "        const element = document.querySelector('#df-812a7010-6770-4a32-b360-36e80da4862a');\n",
              "        const dataTable =\n",
              "          await google.colab.kernel.invokeFunction('convertToInteractive',\n",
              "                                                    [key], {});\n",
              "        if (!dataTable) return;\n",
              "\n",
              "        const docLinkHtml = 'Like what you see? Visit the ' +\n",
              "          '<a target=\"_blank\" href=https://colab.research.google.com/notebooks/data_table.ipynb>data table notebook</a>'\n",
              "          + ' to learn more about interactive tables.';\n",
              "        element.innerHTML = '';\n",
              "        dataTable['output_type'] = 'display_data';\n",
              "        await google.colab.output.renderOutput(dataTable, element);\n",
              "        const docLink = document.createElement('div');\n",
              "        docLink.innerHTML = docLinkHtml;\n",
              "        element.appendChild(docLink);\n",
              "      }\n",
              "    </script>\n",
              "  </div>\n",
              "\n",
              "\n",
              "<div id=\"df-55a2213a-3592-4597-a23e-47e92f49f7ce\">\n",
              "  <button class=\"colab-df-quickchart\" onclick=\"quickchart('df-55a2213a-3592-4597-a23e-47e92f49f7ce')\"\n",
              "            title=\"Suggest charts\"\n",
              "            style=\"display:none;\">\n",
              "\n",
              "<svg xmlns=\"http://www.w3.org/2000/svg\" height=\"24px\"viewBox=\"0 0 24 24\"\n",
              "     width=\"24px\">\n",
              "    <g>\n",
              "        <path d=\"M19 3H5c-1.1 0-2 .9-2 2v14c0 1.1.9 2 2 2h14c1.1 0 2-.9 2-2V5c0-1.1-.9-2-2-2zM9 17H7v-7h2v7zm4 0h-2V7h2v10zm4 0h-2v-4h2v4z\"/>\n",
              "    </g>\n",
              "</svg>\n",
              "  </button>\n",
              "\n",
              "<style>\n",
              "  .colab-df-quickchart {\n",
              "      --bg-color: #E8F0FE;\n",
              "      --fill-color: #1967D2;\n",
              "      --hover-bg-color: #E2EBFA;\n",
              "      --hover-fill-color: #174EA6;\n",
              "      --disabled-fill-color: #AAA;\n",
              "      --disabled-bg-color: #DDD;\n",
              "  }\n",
              "\n",
              "  [theme=dark] .colab-df-quickchart {\n",
              "      --bg-color: #3B4455;\n",
              "      --fill-color: #D2E3FC;\n",
              "      --hover-bg-color: #434B5C;\n",
              "      --hover-fill-color: #FFFFFF;\n",
              "      --disabled-bg-color: #3B4455;\n",
              "      --disabled-fill-color: #666;\n",
              "  }\n",
              "\n",
              "  .colab-df-quickchart {\n",
              "    background-color: var(--bg-color);\n",
              "    border: none;\n",
              "    border-radius: 50%;\n",
              "    cursor: pointer;\n",
              "    display: none;\n",
              "    fill: var(--fill-color);\n",
              "    height: 32px;\n",
              "    padding: 0;\n",
              "    width: 32px;\n",
              "  }\n",
              "\n",
              "  .colab-df-quickchart:hover {\n",
              "    background-color: var(--hover-bg-color);\n",
              "    box-shadow: 0 1px 2px rgba(60, 64, 67, 0.3), 0 1px 3px 1px rgba(60, 64, 67, 0.15);\n",
              "    fill: var(--button-hover-fill-color);\n",
              "  }\n",
              "\n",
              "  .colab-df-quickchart-complete:disabled,\n",
              "  .colab-df-quickchart-complete:disabled:hover {\n",
              "    background-color: var(--disabled-bg-color);\n",
              "    fill: var(--disabled-fill-color);\n",
              "    box-shadow: none;\n",
              "  }\n",
              "\n",
              "  .colab-df-spinner {\n",
              "    border: 2px solid var(--fill-color);\n",
              "    border-color: transparent;\n",
              "    border-bottom-color: var(--fill-color);\n",
              "    animation:\n",
              "      spin 1s steps(1) infinite;\n",
              "  }\n",
              "\n",
              "  @keyframes spin {\n",
              "    0% {\n",
              "      border-color: transparent;\n",
              "      border-bottom-color: var(--fill-color);\n",
              "      border-left-color: var(--fill-color);\n",
              "    }\n",
              "    20% {\n",
              "      border-color: transparent;\n",
              "      border-left-color: var(--fill-color);\n",
              "      border-top-color: var(--fill-color);\n",
              "    }\n",
              "    30% {\n",
              "      border-color: transparent;\n",
              "      border-left-color: var(--fill-color);\n",
              "      border-top-color: var(--fill-color);\n",
              "      border-right-color: var(--fill-color);\n",
              "    }\n",
              "    40% {\n",
              "      border-color: transparent;\n",
              "      border-right-color: var(--fill-color);\n",
              "      border-top-color: var(--fill-color);\n",
              "    }\n",
              "    60% {\n",
              "      border-color: transparent;\n",
              "      border-right-color: var(--fill-color);\n",
              "    }\n",
              "    80% {\n",
              "      border-color: transparent;\n",
              "      border-right-color: var(--fill-color);\n",
              "      border-bottom-color: var(--fill-color);\n",
              "    }\n",
              "    90% {\n",
              "      border-color: transparent;\n",
              "      border-bottom-color: var(--fill-color);\n",
              "    }\n",
              "  }\n",
              "</style>\n",
              "\n",
              "  <script>\n",
              "    async function quickchart(key) {\n",
              "      const quickchartButtonEl =\n",
              "        document.querySelector('#' + key + ' button');\n",
              "      quickchartButtonEl.disabled = true;  // To prevent multiple clicks.\n",
              "      quickchartButtonEl.classList.add('colab-df-spinner');\n",
              "      try {\n",
              "        const charts = await google.colab.kernel.invokeFunction(\n",
              "            'suggestCharts', [key], {});\n",
              "      } catch (error) {\n",
              "        console.error('Error during call to suggestCharts:', error);\n",
              "      }\n",
              "      quickchartButtonEl.classList.remove('colab-df-spinner');\n",
              "      quickchartButtonEl.classList.add('colab-df-quickchart-complete');\n",
              "    }\n",
              "    (() => {\n",
              "      let quickchartButtonEl =\n",
              "        document.querySelector('#df-55a2213a-3592-4597-a23e-47e92f49f7ce button');\n",
              "      quickchartButtonEl.style.display =\n",
              "        google.colab.kernel.accessAllowed ? 'block' : 'none';\n",
              "    })();\n",
              "  </script>\n",
              "</div>\n",
              "\n",
              "    </div>\n",
              "  </div>\n"
            ],
            "application/vnd.google.colaboratory.intrinsic+json": {
              "type": "dataframe",
              "variable_name": "df",
              "summary": "{\n  \"name\": \"df\",\n  \"rows\": 5418,\n  \"fields\": [\n    {\n      \"column\": \"Date\",\n      \"properties\": {\n        \"dtype\": \"date\",\n        \"min\": \"2024-09-20 00:08:35\",\n        \"max\": \"2024-09-30 23:59:10\",\n        \"num_unique_values\": 4942,\n        \"samples\": [\n          \"2024-09-26 20:43:10\",\n          \"2024-09-28 20:58:10\",\n          \"2024-09-29 23:29:26\"\n        ],\n        \"semantic_type\": \"\",\n        \"description\": \"\"\n      }\n    },\n    {\n      \"column\": \"Type\",\n      \"properties\": {\n        \"dtype\": \"category\",\n        \"num_unique_values\": 1,\n        \"samples\": [\n          \"text\"\n        ],\n        \"semantic_type\": \"\",\n        \"description\": \"\"\n      }\n    },\n    {\n      \"column\": \"Group\",\n      \"properties\": {\n        \"dtype\": \"category\",\n        \"num_unique_values\": 4,\n        \"samples\": [\n          \"Fajer news\"\n        ],\n        \"semantic_type\": \"\",\n        \"description\": \"\"\n      }\n    },\n    {\n      \"column\": \"Author ID\",\n      \"properties\": {\n        \"dtype\": \"number\",\n        \"std\": 100354682,\n        \"min\": -1001475851155,\n        \"max\": -1001200257707,\n        \"num_unique_values\": 4,\n        \"samples\": [\n          -1001253130437\n        ],\n        \"semantic_type\": \"\",\n        \"description\": \"\"\n      }\n    },\n    {\n      \"column\": \"Content\",\n      \"properties\": {\n        \"dtype\": \"string\",\n        \"num_unique_values\": 4814,\n        \"samples\": [\n          \"\\u0639\\u0627\\u062c\\u0644 | \\u0627\\u0644\\u0648\\u0643\\u0627\\u0644\\u0629 \\u0627\\u0644\\u0648\\u0637\\u0646\\u064a\\u0629 \\u0627\\u0644\\u0644\\u0628\\u0646\\u0627\\u0646\\u064a\\u0629: \\u062c\\u0631\\u062d\\u0649 \\u062c\\u0631\\u0627\\u0621 \\u0627\\u0633\\u062a\\u0647\\u062f\\u0627\\u0641 \\u0645\\u0628\\u0646\\u064a\\u064a\\u0646 \\u0641\\u064a \\u0628\\u0644\\u062f\\u062a\\u064a \\u0627\\u0644\\u0628\\u0627\\u0628\\u0644\\u064a\\u0629 \\u0648\\u0627\\u0644\\u0635\\u0631\\u0641\\u0646\\u062f \\u062c\\u0646\\u0648\\u0628\\u064a \\u0627\\u0644\\u0628\\u0644\\u0627\\u062f\"\n        ],\n        \"semantic_type\": \"\",\n        \"description\": \"\"\n      }\n    },\n    {\n      \"column\": \"Message ID\",\n      \"properties\": {\n        \"dtype\": \"number\",\n        \"std\": 35310,\n        \"min\": 41825,\n        \"max\": 132632,\n        \"num_unique_values\": 5418,\n        \"samples\": [\n          42802\n        ],\n        \"semantic_type\": \"\",\n        \"description\": \"\"\n      }\n    },\n    {\n      \"column\": \"Views\",\n      \"properties\": {\n        \"dtype\": \"number\",\n        \"std\": 45774,\n        \"min\": 7111,\n        \"max\": 226978,\n        \"num_unique_values\": 5032,\n        \"samples\": [\n          20865\n        ],\n        \"semantic_type\": \"\",\n        \"description\": \"\"\n      }\n    },\n    {\n      \"column\": \"Reactions\",\n      \"properties\": {\n        \"dtype\": \"string\",\n        \"num_unique_values\": 4568,\n        \"samples\": [\n          \"\\ud83e\\udd2c 7 \\u2764 4 \"\n        ],\n        \"semantic_type\": \"\",\n        \"description\": \"\"\n      }\n    },\n    {\n      \"column\": \"Shares\",\n      \"properties\": {\n        \"dtype\": \"number\",\n        \"std\": 23,\n        \"min\": 0,\n        \"max\": 608,\n        \"num_unique_values\": 140,\n        \"samples\": [\n          608\n        ],\n        \"semantic_type\": \"\",\n        \"description\": \"\"\n      }\n    },\n    {\n      \"column\": \"Media\",\n      \"properties\": {\n        \"dtype\": \"boolean\",\n        \"num_unique_values\": 2,\n        \"samples\": [\n          false\n        ],\n        \"semantic_type\": \"\",\n        \"description\": \"\"\n      }\n    },\n    {\n      \"column\": \"Url\",\n      \"properties\": {\n        \"dtype\": \"string\",\n        \"num_unique_values\": 5418,\n        \"samples\": [\n          \"https://t.me/Almustashaar/42802\"\n        ],\n        \"semantic_type\": \"\",\n        \"description\": \"\"\n      }\n    },\n    {\n      \"column\": \"Comments List\",\n      \"properties\": {\n        \"dtype\": \"category\",\n        \"num_unique_values\": 202,\n        \"samples\": [\n          \"[{\\\"Type\\\": \\\"comment\\\", \\\"Comment Group\\\": \\\"@fajernews\\\", \\\"Comment Author ID\\\": 5675734922, \\\"Comment Content\\\": \\\"\\\\u062e\\\\u0644\\\\u0627\\\\u0635 \\\\u062e\\\\u0644\\\\u0627\\\\u0635 \\\\u062e\\\\u0644\\\\u0627\\\\u0635 \\\\u064a\\\\u0627 \\\\u0627\\\\u064a\\\\u0631\\\\u0627\\\\u0646 \\\\u0627\\\\u0644\\\\u0641\\\\u0631\\\\u0633 \\\\u0644\\\\u0645 \\\\u0646\\\\u062b\\\\u0642 \\\\u0641\\\\u064a\\\\u0643\\\\u0645 \\\\u0628\\\\u0639\\\\u062f \\\\u0643\\\\u0644 \\\\u0627\\\\u0644\\\\u0630\\\\u064a \\\\u062d\\\\u0635\\\\u0644\\\", \\\"Comment Date\\\": \\\"2024-09-28 17:06:58\\\", \\\"Comment Message ID\\\": 1214342, \\\"Comment Author\\\": null, \\\"Comment Views\\\": null, \\\"Comment Reactions\\\": \\\"\\\\ud83d\\\\udc4d 2 \\\\ud83e\\\\udd2e 1 \\\", \\\"Comment Shares\\\": null, \\\"Comment Media\\\": \\\"False\\\", \\\"Comment Url\\\": \\\"https://t.me/fajernews/132088?comment=1214342\\\"}, {\\\"Type\\\": \\\"comment\\\", \\\"Comment Group\\\": \\\"@fajernews\\\", \\\"Comment Author ID\\\": 7353846996, \\\"Comment Content\\\": \\\"\\\\u0639\\\\u0644\\\\u0642\\\\u0646\\\\u0627 \\\\u0648\\\\u0632\\\\u0647\\\\u0642\\\\u0646\\\\u0627\\\", \\\"Comment Date\\\": \\\"2024-09-28 10:25:12\\\", \\\"Comment Message ID\\\": 1214087, \\\"Comment Author\\\": null, \\\"Comment Views\\\": null, \\\"Comment Reactions\\\": \\\"\\\", \\\"Comment Shares\\\": null, \\\"Comment Media\\\": \\\"False\\\", \\\"Comment Url\\\": \\\"https://t.me/fajernews/132088?comment=1214087\\\"}, {\\\"Type\\\": \\\"comment\\\", \\\"Comment Group\\\": \\\"@fajernews\\\", \\\"Comment Author ID\\\": 7801980431, \\\"Comment Content\\\": \\\"\\\\u0627\\\\u064a\\\\u0631\\\\u0627\\\\u0646 \\\\u0627\\\\u0644\\\\u0639\\\\u0642\\\\u0631\\\\u0628\\\\u0629\\\", \\\"Comment Date\\\": \\\"2024-09-28 10:20:49\\\", \\\"Comment Message ID\\\": 1214080, \\\"Comment Author\\\": null, \\\"Comment Views\\\": null, \\\"Comment Reactions\\\": \\\"\\\", \\\"Comment Shares\\\": null, \\\"Comment Media\\\": \\\"False\\\", \\\"Comment Url\\\": \\\"https://t.me/fajernews/132088?comment=1214080\\\"}, {\\\"Type\\\": \\\"comment\\\", \\\"Comment Group\\\": \\\"@fajernews\\\", \\\"Comment Author ID\\\": 7728687806, \\\"Comment Content\\\": \\\"\\\\u0633\\\\u0644\\\\u0627\\\\u0645 \\\\u0627\\\\u06cc\\\\u0631\\\\u0627\\\\u0646\\\", \\\"Comment Date\\\": \\\"2024-09-28 10:16:35\\\", \\\"Comment Message ID\\\": 1214073, \\\"Comment Author\\\": null, \\\"Comment Views\\\": null, \\\"Comment Reactions\\\": \\\"\\\\u2764 1 \\\", \\\"Comment Shares\\\": null, \\\"Comment Media\\\": \\\"False\\\", \\\"Comment Url\\\": \\\"https://t.me/fajernews/132088?comment=1214073\\\"}]\"\n        ],\n        \"semantic_type\": \"\",\n        \"description\": \"\"\n      }\n    }\n  ]\n}"
            }
          },
          "metadata": {},
          "execution_count": 16
        }
      ]
    },
    {
      "cell_type": "markdown",
      "source": [
        "## Q1) Number of posts per channel"
      ],
      "metadata": {
        "id": "7wqcKVhJIlpw"
      }
    },
    {
      "cell_type": "code",
      "source": [
        "#Inspect the number of crimes\n",
        "posts_counts_bar=df['Group'].value_counts().to_frame('Total # of posts')\n"
      ],
      "metadata": {
        "id": "EeLXfP3hKPs7"
      },
      "execution_count": null,
      "outputs": []
    },
    {
      "cell_type": "code",
      "source": [
        "#Display with an inline-barplot inside your df\n",
        "posts_counts_bar.style.bar('Total # of posts')"
      ],
      "metadata": {
        "colab": {
          "base_uri": "https://localhost:8080/"
        },
        "id": "j9_VSaKcKXSO",
        "outputId": "83dec70a-bdbe-487b-892b-27ee5db3eb2f"
      },
      "execution_count": null,
      "outputs": [
        {
          "output_type": "execute_result",
          "data": {
            "text/plain": [
              "<pandas.io.formats.style.Styler at 0x78b4c2d3bdf0>"
            ],
            "text/html": [
              "<style type=\"text/css\">\n",
              "#T_397f6_row0_col0 {\n",
              "  width: 10em;\n",
              "  background: linear-gradient(90deg, #d65f5f 100.0%, transparent 100.0%);\n",
              "}\n",
              "#T_397f6_row1_col0 {\n",
              "  width: 10em;\n",
              "  background: linear-gradient(90deg, #d65f5f 60.6%, transparent 60.6%);\n",
              "}\n",
              "#T_397f6_row2_col0 {\n",
              "  width: 10em;\n",
              "  background: linear-gradient(90deg, #d65f5f 36.4%, transparent 36.4%);\n",
              "}\n",
              "#T_397f6_row3_col0 {\n",
              "  width: 10em;\n",
              "  background: linear-gradient(90deg, #d65f5f 14.1%, transparent 14.1%);\n",
              "}\n",
              "</style>\n",
              "<table id=\"T_397f6\" class=\"dataframe\">\n",
              "  <thead>\n",
              "    <tr>\n",
              "      <th class=\"blank level0\" >&nbsp;</th>\n",
              "      <th id=\"T_397f6_level0_col0\" class=\"col_heading level0 col0\" >Total # of posts</th>\n",
              "    </tr>\n",
              "    <tr>\n",
              "      <th class=\"index_name level0\" >Group</th>\n",
              "      <th class=\"blank col0\" >&nbsp;</th>\n",
              "    </tr>\n",
              "  </thead>\n",
              "  <tbody>\n",
              "    <tr>\n",
              "      <th id=\"T_397f6_level0_row0\" class=\"row_heading level0 row0\" >Fajer news</th>\n",
              "      <td id=\"T_397f6_row0_col0\" class=\"data row0 col0\" >2566</td>\n",
              "    </tr>\n",
              "    <tr>\n",
              "      <th id=\"T_397f6_level0_row1\" class=\"row_heading level0 row1\" >Ramallah news</th>\n",
              "      <td id=\"T_397f6_row1_col0\" class=\"data row1 col0\" >1555</td>\n",
              "    </tr>\n",
              "    <tr>\n",
              "      <th id=\"T_397f6_level0_row2\" class=\"row_heading level0 row2\" >Almustashaar</th>\n",
              "      <td id=\"T_397f6_row2_col0\" class=\"data row2 col0\" >934</td>\n",
              "    </tr>\n",
              "    <tr>\n",
              "      <th id=\"T_397f6_level0_row3\" class=\"row_heading level0 row3\" >meshheek</th>\n",
              "      <td id=\"T_397f6_row3_col0\" class=\"data row3 col0\" >363</td>\n",
              "    </tr>\n",
              "  </tbody>\n",
              "</table>\n"
            ]
          },
          "metadata": {},
          "execution_count": 18
        }
      ]
    },
    {
      "cell_type": "markdown",
      "source": [
        "- Configuration of visualization settings"
      ],
      "metadata": {
        "id": "OegBhY7RNKSY"
      }
    },
    {
      "cell_type": "code",
      "source": [
        "# Set options\n",
        "pd.set_option('display.max_columns',100)\n",
        "# Customize figure style for stakeholder-facing visualizations\n",
        "plt.style.use(('ggplot','fivethirtyeight'))\n",
        "sns.set_context('notebook', font_scale=1.2)\n",
        "plt.rcParams['figure.figsize'] = (12,4)\n",
        "plt.rcParams['savefig.transparent'] = False\n",
        "plt.rcParams['savefig.bbox'] = 'tight'"
      ],
      "metadata": {
        "id": "-XwU44cKM_mW"
      },
      "execution_count": null,
      "outputs": []
    },
    {
      "cell_type": "code",
      "source": [
        "#Storing the count of posts for each group\n",
        "posts_count=df['Group'].value_counts()"
      ],
      "metadata": {
        "id": "xwS8rinbNyyU"
      },
      "execution_count": null,
      "outputs": []
    },
    {
      "cell_type": "code",
      "source": [
        "#Plotting horizontal bar graph\n",
        "ax = posts_count.sort_values().plot(kind='barh',figsize=(12,6))\n",
        "ax.set(title='Number of posts per channel',xlabel='Number of posts');\n",
        "\n",
        "#Adding value labels to the bars\n",
        "for index, value in enumerate(posts_count.sort_values()):\n",
        "    ax.text(value, index, str(value), fontsize=12 * 1.2)  # Add value to the right of the bar\n",
        "\n",
        "plt.show()"
      ],
      "metadata": {
        "colab": {
          "base_uri": "https://localhost:8080/"
        },
        "id": "xozlckYHKzR8",
        "outputId": "dc849f2b-c8f1-4c41-f3bd-7d864e9d1f53"
      },
      "execution_count": null,
      "outputs": [
        {
          "output_type": "display_data",
          "data": {
            "text/plain": [
              "<Figure size 1200x600 with 1 Axes>"
            ],
            "image/png": "[encoded data removed]"
          },
          "metadata": {}
        }
      ]
    },
    {
      "cell_type": "markdown",
      "source": [
        "- The figure illsturate that the highest telegram channel posts count from the selected channels,in the period  from Sep 20 to Sep 30 is from 'Fajer news'  with 2566 posts, followed by 'Ramallah news' with 1555 posts, while the lowest posts count is from 'meshheek telegram channel' with 363 posts."
      ],
      "metadata": {
        "id": "KR4465tWbXBM"
      }
    },
    {
      "cell_type": "markdown",
      "source": [
        "- **After further investigation we found the follow:**\n",
        "\n",
        "\n",
        "  \n",
        "  - **Fajer news:**\n",
        "          - Instagram : 618K followers.\n",
        "          - Facebook: 2M followers.\n",
        "          - Telegram: 223K Subscribers\n",
        "          - Official TV channel.\n",
        "\n",
        "\n",
        "  - **Ramallah news:**\n",
        "          - Instagram : 31.8K followers.\n",
        "          - Facebook: 3.2M followers.\n",
        "          - Telegram: 264K Subscribers\n",
        "\n",
        "\n",
        "  - **Almustashaar:**\n",
        "          - Instagram : 30.9K followers.\n",
        "          - Facebook: no offical page.\n",
        "          - Telegram: 788K Subscribers\n",
        "      \n",
        "  - **Meshheek:**\n",
        "          - Instagram : 39K followers.\n",
        "          - Facebook: 9K followers.\n",
        "          - Telegram: 476K Subscribers\n",
        "\n",
        "\n",
        "\n",
        "\n",
        "\n",
        "\n",
        "\n",
        "So there are insights indicating a relationship between number of the subscribers and posts which may affect on channels' engagement. Engagement will be explored further in the project.\n",
        "\n",
        "\n"
      ],
      "metadata": {
        "id": "lHTYBWl9ayDk"
      }
    },
    {
      "cell_type": "markdown",
      "source": [
        "## Q2) Choose any of the engagement KPIs to show the most engaging channel according to the chosen KPIs"
      ],
      "metadata": {
        "id": "UHoSde6MjHMd"
      }
    },
    {
      "cell_type": "markdown",
      "source": [
        "**For this stackholder question , i will apply two KPI:**\n",
        "\n",
        "\n",
        " **1- Number of interaction per post :** This includes like, comments, views, and shares.\n",
        "\n",
        "  **2-Engagement Rate:**  The ratio of the number of interactions(likes, comments, shares, views) to the number of followers.\n",
        "\n"
      ],
      "metadata": {
        "id": "FT0hsDDfjzAJ"
      }
    },
    {
      "cell_type": "markdown",
      "source": [
        "### 1- Number of interaction per post:"
      ],
      "metadata": {
        "id": "Lid2e5-Wk4U5"
      }
    },
    {
      "cell_type": "code",
      "source": [
        "# Function to extract numbers from the string and sum them\n",
        "def extract_numbers(reaction_str):\n",
        "    numbers = re.findall(r'\\d+', reaction_str)\n",
        "    return sum(map(int, numbers))\n",
        "\n",
        "\n",
        "\n",
        "#Adding new int type column for total reactions\n",
        "df['Reactions_count'] = df['Reactions'].apply(extract_numbers)\n",
        "\n",
        "#Adding new column for total comments\n",
        "df['Comments Count'] = df['Comments List'].apply(len)\n",
        "\n",
        "#Adding new column for total Interactions\n",
        "df['Total Interactions']=df['Reactions_count']+df['Shares']+df['Comments Count']+df['Views']\n",
        "\n",
        "#Interaction summation for each group\n",
        "group_interactions = df.groupby('Group')['Total Interactions'].sum().reset_index()"
      ],
      "metadata": {
        "id": "0KoDvw3V-vT3"
      },
      "execution_count": null,
      "outputs": []
    },
    {
      "cell_type": "code",
      "source": [
        "group_interactions.sort_values(by='Total Interactions',ascending=False)"
      ],
      "metadata": {
        "colab": {
          "base_uri": "https://localhost:8080/",
          "height": 175
        },
        "id": "33wf6NEdK0DL",
        "outputId": "5eebbb86-3270-4122-ee30-e0aa4f702513"
      },
      "execution_count": null,
      "outputs": [
        {
          "output_type": "execute_result",
          "data": {
            "text/plain": [
              "           Group  Total Interactions\n",
              "0   Almustashaar           124585767\n",
              "1     Fajer news            39726298\n",
              "2  Ramallah news            35939450\n",
              "3       meshheek            30572961"
            ],
            "text/html": [
              "\n",
              "  <div id=\"df-4b55bbfd-700a-4876-b5fb-5442767f1006\" class=\"colab-df-container\">\n",
              "    <div>\n",
              "<style scoped>\n",
              "    .dataframe tbody tr th:only-of-type {\n",
              "        vertical-align: middle;\n",
              "    }\n",
              "\n",
              "    .dataframe tbody tr th {\n",
              "        vertical-align: top;\n",
              "    }\n",
              "\n",
              "    .dataframe thead th {\n",
              "        text-align: right;\n",
              "    }\n",
              "</style>\n",
              "<table border=\"1\" class=\"dataframe\">\n",
              "  <thead>\n",
              "    <tr style=\"text-align: right;\">\n",
              "      <th></th>\n",
              "      <th>Group</th>\n",
              "      <th>Total Interactions</th>\n",
              "    </tr>\n",
              "  </thead>\n",
              "  <tbody>\n",
              "    <tr>\n",
              "      <th>0</th>\n",
              "      <td>Almustashaar</td>\n",
              "      <td>124585767</td>\n",
              "    </tr>\n",
              "    <tr>\n",
              "      <th>1</th>\n",
              "      <td>Fajer news</td>\n",
              "      <td>39726298</td>\n",
              "    </tr>\n",
              "    <tr>\n",
              "      <th>2</th>\n",
              "      <td>Ramallah news</td>\n",
              "      <td>35939450</td>\n",
              "    </tr>\n",
              "    <tr>\n",
              "      <th>3</th>\n",
              "      <td>meshheek</td>\n",
              "      <td>30572961</td>\n",
              "    </tr>\n",
              "  </tbody>\n",
              "</table>\n",
              "</div>\n",
              "    <div class=\"colab-df-buttons\">\n",
              "\n",
              "  <div class=\"colab-df-container\">\n",
              "    <button class=\"colab-df-convert\" onclick=\"convertToInteractive('df-4b55bbfd-700a-4876-b5fb-5442767f1006')\"\n",
              "            title=\"Convert this dataframe to an interactive table.\"\n",
              "            style=\"display:none;\">\n",
              "\n",
              "  <svg xmlns=\"http://www.w3.org/2000/svg\" height=\"24px\" viewBox=\"0 -960 960 960\">\n",
              "    <path d=\"M120-120v-720h720v720H120Zm60-500h600v-160H180v160Zm220 220h160v-160H400v160Zm0 220h160v-160H400v160ZM180-400h160v-160H180v160Zm440 0h160v-160H620v160ZM180-180h160v-160H180v160Zm440 0h160v-160H620v160Z\"/>\n",
              "  </svg>\n",
              "    </button>\n",
              "\n",
              "  <style>\n",
              "    .colab-df-container {\n",
              "      display:flex;\n",
              "      gap: 12px;\n",
              "    }\n",
              "\n",
              "    .colab-df-convert {\n",
              "      background-color: #E8F0FE;\n",
              "      border: none;\n",
              "      border-radius: 50%;\n",
              "      cursor: pointer;\n",
              "      display: none;\n",
              "      fill: #1967D2;\n",
              "      height: 32px;\n",
              "      padding: 0 0 0 0;\n",
              "      width: 32px;\n",
              "    }\n",
              "\n",
              "    .colab-df-convert:hover {\n",
              "      background-color: #E2EBFA;\n",
              "      box-shadow: 0px 1px 2px rgba(60, 64, 67, 0.3), 0px 1px 3px 1px rgba(60, 64, 67, 0.15);\n",
              "      fill: #174EA6;\n",
              "    }\n",
              "\n",
              "    .colab-df-buttons div {\n",
              "      margin-bottom: 4px;\n",
              "    }\n",
              "\n",
              "    [theme=dark] .colab-df-convert {\n",
              "      background-color: #3B4455;\n",
              "      fill: #D2E3FC;\n",
              "    }\n",
              "\n",
              "    [theme=dark] .colab-df-convert:hover {\n",
              "      background-color: #434B5C;\n",
              "      box-shadow: 0px 1px 3px 1px rgba(0, 0, 0, 0.15);\n",
              "      filter: drop-shadow(0px 1px 2px rgba(0, 0, 0, 0.3));\n",
              "      fill: #FFFFFF;\n",
              "    }\n",
              "  </style>\n",
              "\n",
              "    <script>\n",
              "      const buttonEl =\n",
              "        document.querySelector('#df-4b55bbfd-700a-4876-b5fb-5442767f1006 button.colab-df-convert');\n",
              "      buttonEl.style.display =\n",
              "        google.colab.kernel.accessAllowed ? 'block' : 'none';\n",
              "\n",
              "      async function convertToInteractive(key) {\n",
              "        const element = document.querySelector('#df-4b55bbfd-700a-4876-b5fb-5442767f1006');\n",
              "        const dataTable =\n",
              "          await google.colab.kernel.invokeFunction('convertToInteractive',\n",
              "                                                    [key], {});\n",
              "        if (!dataTable) return;\n",
              "\n",
              "        const docLinkHtml = 'Like what you see? Visit the ' +\n",
              "          '<a target=\"_blank\" href=https://colab.research.google.com/notebooks/data_table.ipynb>data table notebook</a>'\n",
              "          + ' to learn more about interactive tables.';\n",
              "        element.innerHTML = '';\n",
              "        dataTable['output_type'] = 'display_data';\n",
              "        await google.colab.output.renderOutput(dataTable, element);\n",
              "        const docLink = document.createElement('div');\n",
              "        docLink.innerHTML = docLinkHtml;\n",
              "        element.appendChild(docLink);\n",
              "      }\n",
              "    </script>\n",
              "  </div>\n",
              "\n",
              "\n",
              "<div id=\"df-64a382e0-f42b-4ffd-808b-f8376f11bffa\">\n",
              "  <button class=\"colab-df-quickchart\" onclick=\"quickchart('df-64a382e0-f42b-4ffd-808b-f8376f11bffa')\"\n",
              "            title=\"Suggest charts\"\n",
              "            style=\"display:none;\">\n",
              "\n",
              "<svg xmlns=\"http://www.w3.org/2000/svg\" height=\"24px\"viewBox=\"0 0 24 24\"\n",
              "     width=\"24px\">\n",
              "    <g>\n",
              "        <path d=\"M19 3H5c-1.1 0-2 .9-2 2v14c0 1.1.9 2 2 2h14c1.1 0 2-.9 2-2V5c0-1.1-.9-2-2-2zM9 17H7v-7h2v7zm4 0h-2V7h2v10zm4 0h-2v-4h2v4z\"/>\n",
              "    </g>\n",
              "</svg>\n",
              "  </button>\n",
              "\n",
              "<style>\n",
              "  .colab-df-quickchart {\n",
              "      --bg-color: #E8F0FE;\n",
              "      --fill-color: #1967D2;\n",
              "      --hover-bg-color: #E2EBFA;\n",
              "      --hover-fill-color: #174EA6;\n",
              "      --disabled-fill-color: #AAA;\n",
              "      --disabled-bg-color: #DDD;\n",
              "  }\n",
              "\n",
              "  [theme=dark] .colab-df-quickchart {\n",
              "      --bg-color: #3B4455;\n",
              "      --fill-color: #D2E3FC;\n",
              "      --hover-bg-color: #434B5C;\n",
              "      --hover-fill-color: #FFFFFF;\n",
              "      --disabled-bg-color: #3B4455;\n",
              "      --disabled-fill-color: #666;\n",
              "  }\n",
              "\n",
              "  .colab-df-quickchart {\n",
              "    background-color: var(--bg-color);\n",
              "    border: none;\n",
              "    border-radius: 50%;\n",
              "    cursor: pointer;\n",
              "    display: none;\n",
              "    fill: var(--fill-color);\n",
              "    height: 32px;\n",
              "    padding: 0;\n",
              "    width: 32px;\n",
              "  }\n",
              "\n",
              "  .colab-df-quickchart:hover {\n",
              "    background-color: var(--hover-bg-color);\n",
              "    box-shadow: 0 1px 2px rgba(60, 64, 67, 0.3), 0 1px 3px 1px rgba(60, 64, 67, 0.15);\n",
              "    fill: var(--button-hover-fill-color);\n",
              "  }\n",
              "\n",
              "  .colab-df-quickchart-complete:disabled,\n",
              "  .colab-df-quickchart-complete:disabled:hover {\n",
              "    background-color: var(--disabled-bg-color);\n",
              "    fill: var(--disabled-fill-color);\n",
              "    box-shadow: none;\n",
              "  }\n",
              "\n",
              "  .colab-df-spinner {\n",
              "    border: 2px solid var(--fill-color);\n",
              "    border-color: transparent;\n",
              "    border-bottom-color: var(--fill-color);\n",
              "    animation:\n",
              "      spin 1s steps(1) infinite;\n",
              "  }\n",
              "\n",
              "  @keyframes spin {\n",
              "    0% {\n",
              "      border-color: transparent;\n",
              "      border-bottom-color: var(--fill-color);\n",
              "      border-left-color: var(--fill-color);\n",
              "    }\n",
              "    20% {\n",
              "      border-color: transparent;\n",
              "      border-left-color: var(--fill-color);\n",
              "      border-top-color: var(--fill-color);\n",
              "    }\n",
              "    30% {\n",
              "      border-color: transparent;\n",
              "      border-left-color: var(--fill-color);\n",
              "      border-top-color: var(--fill-color);\n",
              "      border-right-color: var(--fill-color);\n",
              "    }\n",
              "    40% {\n",
              "      border-color: transparent;\n",
              "      border-right-color: var(--fill-color);\n",
              "      border-top-color: var(--fill-color);\n",
              "    }\n",
              "    60% {\n",
              "      border-color: transparent;\n",
              "      border-right-color: var(--fill-color);\n",
              "    }\n",
              "    80% {\n",
              "      border-color: transparent;\n",
              "      border-right-color: var(--fill-color);\n",
              "      border-bottom-color: var(--fill-color);\n",
              "    }\n",
              "    90% {\n",
              "      border-color: transparent;\n",
              "      border-bottom-color: var(--fill-color);\n",
              "    }\n",
              "  }\n",
              "</style>\n",
              "\n",
              "  <script>\n",
              "    async function quickchart(key) {\n",
              "      const quickchartButtonEl =\n",
              "        document.querySelector('#' + key + ' button');\n",
              "      quickchartButtonEl.disabled = true;  // To prevent multiple clicks.\n",
              "      quickchartButtonEl.classList.add('colab-df-spinner');\n",
              "      try {\n",
              "        const charts = await google.colab.kernel.invokeFunction(\n",
              "            'suggestCharts', [key], {});\n",
              "      } catch (error) {\n",
              "        console.error('Error during call to suggestCharts:', error);\n",
              "      }\n",
              "      quickchartButtonEl.classList.remove('colab-df-spinner');\n",
              "      quickchartButtonEl.classList.add('colab-df-quickchart-complete');\n",
              "    }\n",
              "    (() => {\n",
              "      let quickchartButtonEl =\n",
              "        document.querySelector('#df-64a382e0-f42b-4ffd-808b-f8376f11bffa button');\n",
              "      quickchartButtonEl.style.display =\n",
              "        google.colab.kernel.accessAllowed ? 'block' : 'none';\n",
              "    })();\n",
              "  </script>\n",
              "</div>\n",
              "\n",
              "    </div>\n",
              "  </div>\n"
            ],
            "application/vnd.google.colaboratory.intrinsic+json": {
              "type": "dataframe",
              "summary": "{\n  \"name\": \"group_interactions\",\n  \"rows\": 4,\n  \"fields\": [\n    {\n      \"column\": \"Group\",\n      \"properties\": {\n        \"dtype\": \"string\",\n        \"num_unique_values\": 4,\n        \"samples\": [\n          \"Fajer news\",\n          \"meshheek\",\n          \"Almustashaar\"\n        ],\n        \"semantic_type\": \"\",\n        \"description\": \"\"\n      }\n    },\n    {\n      \"column\": \"Total Interactions\",\n      \"properties\": {\n        \"dtype\": \"number\",\n        \"std\": 44744301,\n        \"min\": 30572961,\n        \"max\": 124585767,\n        \"num_unique_values\": 4,\n        \"samples\": [\n          39726298,\n          30572961,\n          124585767\n        ],\n        \"semantic_type\": \"\",\n        \"description\": \"\"\n      }\n    }\n  ]\n}"
            }
          },
          "metadata": {},
          "execution_count": 23
        }
      ]
    },
    {
      "cell_type": "code",
      "source": [
        "#Change numbers display format\n",
        "def format_interactions(num,pos=None):\n",
        "    if num >= 1_000_000:\n",
        "        return f\"{num/1_000_000:.1f}M\"\n",
        "    elif num >= 1_000:\n",
        "        return f\"{num/1_000:.1f}K\"\n",
        "    else:\n",
        "        return str(num)"
      ],
      "metadata": {
        "id": "O3ndYeibOac6"
      },
      "execution_count": null,
      "outputs": []
    },
    {
      "cell_type": "code",
      "source": [
        "#Plotting horizontal bar graph for total ineteraction per Group\n",
        "ax=group_interactions.sort_values(by='Total Interactions').plot(kind='barh',x='Group', y='Total Interactions', legend=False, figsize=(12, 6))\n",
        "ax.set(title='Number of Interactions per Group',xlabel='Engagement counts',ylabel='Channel Name');\n",
        "\n",
        "#Change x-axis format using major_formatter\n",
        "ax.xaxis.set_major_formatter(FuncFormatter(format_interactions))\n",
        "\n",
        "#Adding value labels to the bars\n",
        "for index, value in enumerate(group_interactions.sort_values(by='Total Interactions')['Total Interactions']):\n",
        "    formatted_value = format_interactions(value)\n",
        "    ax.text(value, index, formatted_value, fontsize=12 * 1.2)\n",
        "\n",
        "\n",
        "\n",
        "\n",
        "plt.show()"
      ],
      "metadata": {
        "colab": {
          "base_uri": "https://localhost:8080/",
          "height": 602
        },
        "id": "9MogrJK4_u75",
        "outputId": "bebfa542-837b-4f09-b87b-ea23ae7450bd"
      },
      "execution_count": null,
      "outputs": [
        {
          "output_type": "display_data",
          "data": {
            "text/plain": [
              "<Figure size 1200x600 with 1 Axes>"
            ],
            "image/png": "[encoded data removed]"
          },
          "metadata": {}
        }
      ]
    },
    {
      "cell_type": "markdown",
      "source": [
        "- The figure illustrates that 'Almustashaar' channel has the largest number of engagement among the selected channels  with 124.6 million over the 10-day period, followed by 'Fajer news' with 39.7 million engagements , on the other hand, 'meshheek' has the lowest engagement count with 30.6 million.\n"
      ],
      "metadata": {
        "id": "SNjAiWvPR_64"
      }
    },
    {
      "cell_type": "markdown",
      "source": [
        "\n",
        "\n",
        "- **For now we conclude the following**:\n",
        "\n",
        "\n",
        " - **Almustashar:**\n",
        "      - Engagement: The highest 124.6 million engagement over a 10-day period.\n",
        "\n",
        "      - Posts: Posted 943 times over the 10-day period.\n",
        "\n",
        "      - subscribers: Largest number of Telegram subscribers, totaling 788k.\n",
        "\n",
        "\n",
        "  - **Fajr News:**\n",
        "      - Engagement: Engagement count of 39.7 million.\n",
        "\n",
        "      - Posts: Lowest number of subscribers among the selected channels, with 223k.\n",
        "\n",
        "      - subscribers: Most active with 2566 posts over the 10-day period.\n",
        "\n",
        "\n",
        "  - **Ramallah News:**\n",
        "\n",
        "      - Engagement: Engagement count of 35.9 million.\n",
        "      \n",
        "      - Posts: number of subscribers is 264k.\n",
        "\n",
        "      - subscribers: Ranks seconed active with 1555 posts over the 10-day period.\n",
        "\n",
        "\n",
        "  - **Meshheek:**\n",
        "\n",
        "    - Engagement: Lowest engagement count at 30.6 million.\n",
        "    - Posts: Ranks second in subscriber count with 476k subscribers.\n",
        "    - subscribers: Fewest posts, totaling 353 over the 10-day period.\n"
      ],
      "metadata": {
        "id": "xj9EYmzYaqCl"
      }
    },
    {
      "cell_type": "markdown",
      "source": [
        "### 2- Engagement rate"
      ],
      "metadata": {
        "id": "91LGJniChQx-"
      }
    },
    {
      "cell_type": "markdown",
      "source": [
        "- Engagement rates are crucial metrics for assessing the performance of channels on social media to show the most engaging channel .\n",
        "\n",
        "- Engagement Rate = (Total Engagements / Total Subscribers) × 100\n",
        "\n"
      ],
      "metadata": {
        "id": "jiPo2JRXhZQ7"
      }
    },
    {
      "cell_type": "code",
      "source": [
        "#Finding Engagement Rate  for 'Almustashaar' channel\n",
        "engagement_rate_Almustashaar=(df[df['Group']=='Almustashaar']['Total Interactions'].sum() / 789663 )*100\n",
        "engagement_rate_Fajer_news=(df[df['Group']=='Fajer news']['Total Interactions'].sum() / 223182 )*100\n",
        "engagement_rate_Ramallah_news=(df[df['Group']=='Ramallah news']['Total Interactions'].sum() / 264181)*100\n",
        "engagement_rate_meshheek_news=(df[df['Group']=='meshheek']['Total Interactions'].sum() / 476738)*100\n"
      ],
      "metadata": {
        "id": "w_SDDF7ZhYR4"
      },
      "execution_count": null,
      "outputs": []
    },
    {
      "cell_type": "code",
      "source": [
        "#Create DataFrame of the engaement values\n",
        "group_engagement_rate= pd.DataFrame({'Group':['Almustashaar','Fajer news','Ramallah news','meshheek'],\n",
        "                                    'Total':[engagement_rate_Almustashaar,engagement_rate_Fajer_news,engagement_rate_Ramallah_news,engagement_rate_meshheek_news]})\n",
        "\n",
        "group_engagement_rate"
      ],
      "metadata": {
        "colab": {
          "base_uri": "https://localhost:8080/"
        },
        "id": "b9tcYnOEneGh",
        "outputId": "18049b56-bafb-47e7-a88c-8adff7e7168c"
      },
      "execution_count": null,
      "outputs": [
        {
          "output_type": "execute_result",
          "data": {
            "text/plain": [
              "           Group         Total\n",
              "0   Almustashaar  15777.080476\n",
              "1     Fajer news  17799.956090\n",
              "2  Ramallah news  13604.100976\n",
              "3       meshheek   6412.948202"
            ],
            "text/html": [
              "\n",
              "  <div id=\"df-04d6d09b-da1d-4445-9dfb-2445ee3d73c1\" class=\"colab-df-container\">\n",
              "    <div>\n",
              "<style scoped>\n",
              "    .dataframe tbody tr th:only-of-type {\n",
              "        vertical-align: middle;\n",
              "    }\n",
              "\n",
              "    .dataframe tbody tr th {\n",
              "        vertical-align: top;\n",
              "    }\n",
              "\n",
              "    .dataframe thead th {\n",
              "        text-align: right;\n",
              "    }\n",
              "</style>\n",
              "<table border=\"1\" class=\"dataframe\">\n",
              "  <thead>\n",
              "    <tr style=\"text-align: right;\">\n",
              "      <th></th>\n",
              "      <th>Group</th>\n",
              "      <th>Total</th>\n",
              "    </tr>\n",
              "  </thead>\n",
              "  <tbody>\n",
              "    <tr>\n",
              "      <th>0</th>\n",
              "      <td>Almustashaar</td>\n",
              "      <td>15777.080476</td>\n",
              "    </tr>\n",
              "    <tr>\n",
              "      <th>1</th>\n",
              "      <td>Fajer news</td>\n",
              "      <td>17799.956090</td>\n",
              "    </tr>\n",
              "    <tr>\n",
              "      <th>2</th>\n",
              "      <td>Ramallah news</td>\n",
              "      <td>13604.100976</td>\n",
              "    </tr>\n",
              "    <tr>\n",
              "      <th>3</th>\n",
              "      <td>meshheek</td>\n",
              "      <td>6412.948202</td>\n",
              "    </tr>\n",
              "  </tbody>\n",
              "</table>\n",
              "</div>\n",
              "    <div class=\"colab-df-buttons\">\n",
              "\n",
              "  <div class=\"colab-df-container\">\n",
              "    <button class=\"colab-df-convert\" onclick=\"convertToInteractive('df-04d6d09b-da1d-4445-9dfb-2445ee3d73c1')\"\n",
              "            title=\"Convert this dataframe to an interactive table.\"\n",
              "            style=\"display:none;\">\n",
              "\n",
              "  <svg xmlns=\"http://www.w3.org/2000/svg\" height=\"24px\" viewBox=\"0 -960 960 960\">\n",
              "    <path d=\"M120-120v-720h720v720H120Zm60-500h600v-160H180v160Zm220 220h160v-160H400v160Zm0 220h160v-160H400v160ZM180-400h160v-160H180v160Zm440 0h160v-160H620v160ZM180-180h160v-160H180v160Zm440 0h160v-160H620v160Z\"/>\n",
              "  </svg>\n",
              "    </button>\n",
              "\n",
              "  <style>\n",
              "    .colab-df-container {\n",
              "      display:flex;\n",
              "      gap: 12px;\n",
              "    }\n",
              "\n",
              "    .colab-df-convert {\n",
              "      background-color: #E8F0FE;\n",
              "      border: none;\n",
              "      border-radius: 50%;\n",
              "      cursor: pointer;\n",
              "      display: none;\n",
              "      fill: #1967D2;\n",
              "      height: 32px;\n",
              "      padding: 0 0 0 0;\n",
              "      width: 32px;\n",
              "    }\n",
              "\n",
              "    .colab-df-convert:hover {\n",
              "      background-color: #E2EBFA;\n",
              "      box-shadow: 0px 1px 2px rgba(60, 64, 67, 0.3), 0px 1px 3px 1px rgba(60, 64, 67, 0.15);\n",
              "      fill: #174EA6;\n",
              "    }\n",
              "\n",
              "    .colab-df-buttons div {\n",
              "      margin-bottom: 4px;\n",
              "    }\n",
              "\n",
              "    [theme=dark] .colab-df-convert {\n",
              "      background-color: #3B4455;\n",
              "      fill: #D2E3FC;\n",
              "    }\n",
              "\n",
              "    [theme=dark] .colab-df-convert:hover {\n",
              "      background-color: #434B5C;\n",
              "      box-shadow: 0px 1px 3px 1px rgba(0, 0, 0, 0.15);\n",
              "      filter: drop-shadow(0px 1px 2px rgba(0, 0, 0, 0.3));\n",
              "      fill: #FFFFFF;\n",
              "    }\n",
              "  </style>\n",
              "\n",
              "    <script>\n",
              "      const buttonEl =\n",
              "        document.querySelector('#df-04d6d09b-da1d-4445-9dfb-2445ee3d73c1 button.colab-df-convert');\n",
              "      buttonEl.style.display =\n",
              "        google.colab.kernel.accessAllowed ? 'block' : 'none';\n",
              "\n",
              "      async function convertToInteractive(key) {\n",
              "        const element = document.querySelector('#df-04d6d09b-da1d-4445-9dfb-2445ee3d73c1');\n",
              "        const dataTable =\n",
              "          await google.colab.kernel.invokeFunction('convertToInteractive',\n",
              "                                                    [key], {});\n",
              "        if (!dataTable) return;\n",
              "\n",
              "        const docLinkHtml = 'Like what you see? Visit the ' +\n",
              "          '<a target=\"_blank\" href=https://colab.research.google.com/notebooks/data_table.ipynb>data table notebook</a>'\n",
              "          + ' to learn more about interactive tables.';\n",
              "        element.innerHTML = '';\n",
              "        dataTable['output_type'] = 'display_data';\n",
              "        await google.colab.output.renderOutput(dataTable, element);\n",
              "        const docLink = document.createElement('div');\n",
              "        docLink.innerHTML = docLinkHtml;\n",
              "        element.appendChild(docLink);\n",
              "      }\n",
              "    </script>\n",
              "  </div>\n",
              "\n",
              "\n",
              "<div id=\"df-6f6aab84-0f46-4819-a94a-aeed3748926a\">\n",
              "  <button class=\"colab-df-quickchart\" onclick=\"quickchart('df-6f6aab84-0f46-4819-a94a-aeed3748926a')\"\n",
              "            title=\"Suggest charts\"\n",
              "            style=\"display:none;\">\n",
              "\n",
              "<svg xmlns=\"http://www.w3.org/2000/svg\" height=\"24px\"viewBox=\"0 0 24 24\"\n",
              "     width=\"24px\">\n",
              "    <g>\n",
              "        <path d=\"M19 3H5c-1.1 0-2 .9-2 2v14c0 1.1.9 2 2 2h14c1.1 0 2-.9 2-2V5c0-1.1-.9-2-2-2zM9 17H7v-7h2v7zm4 0h-2V7h2v10zm4 0h-2v-4h2v4z\"/>\n",
              "    </g>\n",
              "</svg>\n",
              "  </button>\n",
              "\n",
              "<style>\n",
              "  .colab-df-quickchart {\n",
              "      --bg-color: #E8F0FE;\n",
              "      --fill-color: #1967D2;\n",
              "      --hover-bg-color: #E2EBFA;\n",
              "      --hover-fill-color: #174EA6;\n",
              "      --disabled-fill-color: #AAA;\n",
              "      --disabled-bg-color: #DDD;\n",
              "  }\n",
              "\n",
              "  [theme=dark] .colab-df-quickchart {\n",
              "      --bg-color: #3B4455;\n",
              "      --fill-color: #D2E3FC;\n",
              "      --hover-bg-color: #434B5C;\n",
              "      --hover-fill-color: #FFFFFF;\n",
              "      --disabled-bg-color: #3B4455;\n",
              "      --disabled-fill-color: #666;\n",
              "  }\n",
              "\n",
              "  .colab-df-quickchart {\n",
              "    background-color: var(--bg-color);\n",
              "    border: none;\n",
              "    border-radius: 50%;\n",
              "    cursor: pointer;\n",
              "    display: none;\n",
              "    fill: var(--fill-color);\n",
              "    height: 32px;\n",
              "    padding: 0;\n",
              "    width: 32px;\n",
              "  }\n",
              "\n",
              "  .colab-df-quickchart:hover {\n",
              "    background-color: var(--hover-bg-color);\n",
              "    box-shadow: 0 1px 2px rgba(60, 64, 67, 0.3), 0 1px 3px 1px rgba(60, 64, 67, 0.15);\n",
              "    fill: var(--button-hover-fill-color);\n",
              "  }\n",
              "\n",
              "  .colab-df-quickchart-complete:disabled,\n",
              "  .colab-df-quickchart-complete:disabled:hover {\n",
              "    background-color: var(--disabled-bg-color);\n",
              "    fill: var(--disabled-fill-color);\n",
              "    box-shadow: none;\n",
              "  }\n",
              "\n",
              "  .colab-df-spinner {\n",
              "    border: 2px solid var(--fill-color);\n",
              "    border-color: transparent;\n",
              "    border-bottom-color: var(--fill-color);\n",
              "    animation:\n",
              "      spin 1s steps(1) infinite;\n",
              "  }\n",
              "\n",
              "  @keyframes spin {\n",
              "    0% {\n",
              "      border-color: transparent;\n",
              "      border-bottom-color: var(--fill-color);\n",
              "      border-left-color: var(--fill-color);\n",
              "    }\n",
              "    20% {\n",
              "      border-color: transparent;\n",
              "      border-left-color: var(--fill-color);\n",
              "      border-top-color: var(--fill-color);\n",
              "    }\n",
              "    30% {\n",
              "      border-color: transparent;\n",
              "      border-left-color: var(--fill-color);\n",
              "      border-top-color: var(--fill-color);\n",
              "      border-right-color: var(--fill-color);\n",
              "    }\n",
              "    40% {\n",
              "      border-color: transparent;\n",
              "      border-right-color: var(--fill-color);\n",
              "      border-top-color: var(--fill-color);\n",
              "    }\n",
              "    60% {\n",
              "      border-color: transparent;\n",
              "      border-right-color: var(--fill-color);\n",
              "    }\n",
              "    80% {\n",
              "      border-color: transparent;\n",
              "      border-right-color: var(--fill-color);\n",
              "      border-bottom-color: var(--fill-color);\n",
              "    }\n",
              "    90% {\n",
              "      border-color: transparent;\n",
              "      border-bottom-color: var(--fill-color);\n",
              "    }\n",
              "  }\n",
              "</style>\n",
              "\n",
              "  <script>\n",
              "    async function quickchart(key) {\n",
              "      const quickchartButtonEl =\n",
              "        document.querySelector('#' + key + ' button');\n",
              "      quickchartButtonEl.disabled = true;  // To prevent multiple clicks.\n",
              "      quickchartButtonEl.classList.add('colab-df-spinner');\n",
              "      try {\n",
              "        const charts = await google.colab.kernel.invokeFunction(\n",
              "            'suggestCharts', [key], {});\n",
              "      } catch (error) {\n",
              "        console.error('Error during call to suggestCharts:', error);\n",
              "      }\n",
              "      quickchartButtonEl.classList.remove('colab-df-spinner');\n",
              "      quickchartButtonEl.classList.add('colab-df-quickchart-complete');\n",
              "    }\n",
              "    (() => {\n",
              "      let quickchartButtonEl =\n",
              "        document.querySelector('#df-6f6aab84-0f46-4819-a94a-aeed3748926a button');\n",
              "      quickchartButtonEl.style.display =\n",
              "        google.colab.kernel.accessAllowed ? 'block' : 'none';\n",
              "    })();\n",
              "  </script>\n",
              "</div>\n",
              "\n",
              "  <div id=\"id_deb45420-5e67-4472-bd7d-8da27d670f10\">\n",
              "    <style>\n",
              "      .colab-df-generate {\n",
              "        background-color: #E8F0FE;\n",
              "        border: none;\n",
              "        border-radius: 50%;\n",
              "        cursor: pointer;\n",
              "        display: none;\n",
              "        fill: #1967D2;\n",
              "        height: 32px;\n",
              "        padding: 0 0 0 0;\n",
              "        width: 32px;\n",
              "      }\n",
              "\n",
              "      .colab-df-generate:hover {\n",
              "        background-color: #E2EBFA;\n",
              "        box-shadow: 0px 1px 2px rgba(60, 64, 67, 0.3), 0px 1px 3px 1px rgba(60, 64, 67, 0.15);\n",
              "        fill: #174EA6;\n",
              "      }\n",
              "\n",
              "      [theme=dark] .colab-df-generate {\n",
              "        background-color: #3B4455;\n",
              "        fill: #D2E3FC;\n",
              "      }\n",
              "\n",
              "      [theme=dark] .colab-df-generate:hover {\n",
              "        background-color: #434B5C;\n",
              "        box-shadow: 0px 1px 3px 1px rgba(0, 0, 0, 0.15);\n",
              "        filter: drop-shadow(0px 1px 2px rgba(0, 0, 0, 0.3));\n",
              "        fill: #FFFFFF;\n",
              "      }\n",
              "    </style>\n",
              "    <button class=\"colab-df-generate\" onclick=\"generateWithVariable('group_engagement_rate')\"\n",
              "            title=\"Generate code using this dataframe.\"\n",
              "            style=\"display:none;\">\n",
              "\n",
              "  <svg xmlns=\"http://www.w3.org/2000/svg\" height=\"24px\"viewBox=\"0 0 24 24\"\n",
              "       width=\"24px\">\n",
              "    <path d=\"M7,19H8.4L18.45,9,17,7.55,7,17.6ZM5,21V16.75L18.45,3.32a2,2,0,0,1,2.83,0l1.4,1.43a1.91,1.91,0,0,1,.58,1.4,1.91,1.91,0,0,1-.58,1.4L9.25,21ZM18.45,9,17,7.55Zm-12,3A5.31,5.31,0,0,0,4.9,8.1,5.31,5.31,0,0,0,1,6.5,5.31,5.31,0,0,0,4.9,4.9,5.31,5.31,0,0,0,6.5,1,5.31,5.31,0,0,0,8.1,4.9,5.31,5.31,0,0,0,12,6.5,5.46,5.46,0,0,0,6.5,12Z\"/>\n",
              "  </svg>\n",
              "    </button>\n",
              "    <script>\n",
              "      (() => {\n",
              "      const buttonEl =\n",
              "        document.querySelector('#id_deb45420-5e67-4472-bd7d-8da27d670f10 button.colab-df-generate');\n",
              "      buttonEl.style.display =\n",
              "        google.colab.kernel.accessAllowed ? 'block' : 'none';\n",
              "\n",
              "      buttonEl.onclick = () => {\n",
              "        google.colab.notebook.generateWithVariable('group_engagement_rate');\n",
              "      }\n",
              "      })();\n",
              "    </script>\n",
              "  </div>\n",
              "\n",
              "    </div>\n",
              "  </div>\n"
            ],
            "application/vnd.google.colaboratory.intrinsic+json": {
              "type": "dataframe",
              "variable_name": "group_engagement_rate",
              "summary": "{\n  \"name\": \"group_engagement_rate\",\n  \"rows\": 4,\n  \"fields\": [\n    {\n      \"column\": \"Group\",\n      \"properties\": {\n        \"dtype\": \"string\",\n        \"num_unique_values\": 4,\n        \"samples\": [\n          \"Fajer news\",\n          \"meshheek\",\n          \"Almustashaar\"\n        ],\n        \"semantic_type\": \"\",\n        \"description\": \"\"\n      }\n    },\n    {\n      \"column\": \"Total\",\n      \"properties\": {\n        \"dtype\": \"number\",\n        \"std\": 4962.21276147148,\n        \"min\": 6412.948202157159,\n        \"max\": 17799.956089648807,\n        \"num_unique_values\": 4,\n        \"samples\": [\n          17799.956089648807,\n          6412.948202157159,\n          15777.08047610183\n        ],\n        \"semantic_type\": \"\",\n        \"description\": \"\"\n      }\n    }\n  ]\n}"
            }
          },
          "metadata": {},
          "execution_count": 27
        }
      ]
    },
    {
      "cell_type": "code",
      "source": [
        "#Plotting horizontal bar graph for engagement rate\n",
        "ax=group_engagement_rate.sort_values(by='Total').plot(kind='barh',x='Group',y='Total',legend=False)\n",
        "\n",
        "ax.set(title='Engagment Rate % for channels',xlabel='Engagment Rate %',ylabel='Channels');\n",
        "\n",
        "\n",
        "#Change x-axis format to percentage using major formatter\n",
        "percent_formatter = FuncFormatter(lambda x, _: f'{x / 100:.0f}%')\n",
        "ax.xaxis.set_major_formatter(FuncFormatter(percent_formatter))\n",
        "\n",
        "for index, value in enumerate(group_engagement_rate.sort_values(by='Total')['Total']):\n",
        "    ax.text(value, index, f'{value/ 100:.0f}%', fontsize=12 * 1.2)\n",
        "\n",
        "plt.show()"
      ],
      "metadata": {
        "colab": {
          "base_uri": "https://localhost:8080/"
        },
        "id": "xqotqe9doVYS",
        "outputId": "30c9a622-472d-4489-9bc4-058e8abad9ec"
      },
      "execution_count": null,
      "outputs": [
        {
          "output_type": "display_data",
          "data": {
            "text/plain": [
              "<Figure size 1200x400 with 1 Axes>"
            ],
            "image/png": "[encoded data removed]"
          },
          "metadata": {}
        }
      ]
    },
    {
      "cell_type": "markdown",
      "source": [
        "- The figure Illustrates that the most engaging channel over the 10-day period,  according to the chosen KPI is 'Fajer News' with an engagement rate of 178% , followed by 'Almustashaar' with an engagement rate of 158%. In the third place is 'Ramallah news' with an engagement rate of 136% while the lowest engagement rate is for 'Meshheek' at 64%."
      ],
      "metadata": {
        "id": "4XbjFtdirp9a"
      }
    },
    {
      "cell_type": "markdown",
      "source": [
        "## Summary Table and insights:"
      ],
      "metadata": {
        "id": "e7mNAF4vtv1E"
      }
    },
    {
      "cell_type": "markdown",
      "source": [
        "| **Channel Name**        | **Instagram Followers** | **Facebook Followers** | **Telegram Subscribers** | **Total Posts On Telegram** | **Total Interactions On Telegram** | **Engagement Rate (%) On Telegram** |\n",
        "|-------------------|------------------------|-----------------------|-------------------------|-----------------|------------------------|-------------------------|\n",
        "| **Fajer News**    | 618K                  | 2M                    | 223K                    | 2566            | 39,726,298             | **178%**                |\n",
        "| **Ramallah News** | 31.8K                 | 3.2M                  | 264K                    | 1555            | 35,939,450             | **136%**                |\n",
        "| **Almustashaar**  | 30.9K                 | No Official Page      | 788K                    | 934             | 124,585,767            | **158%**                |\n",
        "| **Meshheek**      | 39K                   | 9K                    | 476K                    | 363             | 30,572,961             | **64%**                  |\n",
        "\n",
        "\n",
        "\n",
        "### Insights:\n",
        "\n",
        "#### High Subscriber Counts:\n",
        "- **'Almustashaar'** has the highest number of Telegram subscribers (788k) indicating strong interest and potential for engagement.\n",
        "\n",
        "\n",
        "- **'Meshheek'** also shows a respectable count of 476K subscribers, which is noteworthy compared to its overall engagement rate.\n",
        "\n",
        "#### Engagement Rates vs. Subscribers:\n",
        "- Despite having a high number of subscribers, **'Almustashaar'** has a lower engagement rate compared to **'Fajer News'**, which may indicate that subscriber count does not directly correlate with engagement levels.\n",
        "- **'Meshheek'**, with its lower engagement rate of 64%, may suggest that while it has a high subscriber base, the content may not resonate effectively with its audience.\n",
        "\n",
        "### Hypotheses:\n",
        "1. **Content Relevance**: The content shared on Telegram may not fully meet the expectations or interests of the subscribers, particularly for **'Meshheek'**.\n",
        "2. **Subscriber Engagement**: Channels with a higher number of subscribers may not be effectively converting those subscribers into active participants or engaged audiences.\n",
        "3. **Platform Strategy**: There may be differences in how each channel utilizes Telegram for communication and interaction, affecting engagement.\n",
        "\n",
        "### Recommendations:\n",
        "\n",
        "#### Content Strategy Enhancement:\n",
        "- **'Almustashaar'** should focus on creating more engaging and interactive content on Telegram to convert subscribers into active participants. Polls, quizzes, and exclusive content can enhance user interaction.\n",
        "\n",
        "#### Regular Engagement Initiatives:\n",
        "- **'Meshheek'** should consider implementing regular initiatives, such as live Q&A sessions or community discussions, to foster a more engaged community and improve interaction levels.\n",
        "\n",
        "#### Analyzing Subscriber Behavior:\n",
        "- All channels should analyze subscriber behavior, such as message open rates and interactions, to better understand what content resonates with their audience and adjust their strategies accordingly.\n"
      ],
      "metadata": {
        "id": "YCogPF6oupcS"
      }
    },
    {
      "cell_type": "markdown",
      "source": [
        "# ***Aditional insights***"
      ],
      "metadata": {
        "id": "Q-7JPPX30fAv"
      }
    },
    {
      "cell_type": "markdown",
      "source": [
        "## Highest daily post count"
      ],
      "metadata": {
        "id": "S-Uw-m1qB_1a"
      }
    },
    {
      "cell_type": "code",
      "source": [
        "ax=sns.lineplot(data=df.resample('D').size(), marker='o')\n",
        "ax.set(title='Daily post counts from September 20 to September 30',xlabel='Date',ylabel='Post Counts');"
      ],
      "metadata": {
        "colab": {
          "base_uri": "https://localhost:8080/",
          "height": 440
        },
        "id": "QirzBN2B0NMZ",
        "outputId": "9288dcad-e135-403c-f8ef-580913d044a9"
      },
      "execution_count": 35,
      "outputs": [
        {
          "output_type": "display_data",
          "data": {
            "text/plain": [
              "<Figure size 1200x400 with 1 Axes>"
            ],
            "image/png": "[encoded data removed]"
          },
          "metadata": {}
        }
      ]
    },
    {
      "cell_type": "markdown",
      "source": [
        "- The figure shows that on September 23, 2024, there were the largest number of posts for the four selected channels,  approximately 650 posts during the 10-days period. After further investigation,  we found that on that day, nearly 500 people were killed in a single day of Israeli strikes in Lebanon, with over 1,600 wounded.\n",
        "\n",
        "source: https://www.kjzz.org/npr-top-stories/2024-09-23/lebanon-counts-nearly-500-killed-in-a-day-of-israeli-strikes-with-over-1-600-wounded"
      ],
      "metadata": {
        "id": "Kd7Uij07-U0l"
      }
    },
    {
      "cell_type": "markdown",
      "source": [
        "## Highest reacted post"
      ],
      "metadata": {
        "id": "ISoY1_WpCFo9"
      }
    },
    {
      "cell_type": "code",
      "source": [
        "df.loc[df['Reactions'].idxmax()]"
      ],
      "metadata": {
        "colab": {
          "base_uri": "https://localhost:8080/",
          "height": 523
        },
        "id": "Lzut4Vp1BaUN",
        "outputId": "5a503547-5656-49df-ce3e-b93282229a64"
      },
      "execution_count": null,
      "outputs": [
        {
          "output_type": "execute_result",
          "data": {
            "text/plain": [
              "Type                                                               text\n",
              "Group                                                          meshheek\n",
              "Author ID                                                -1001200257707\n",
              "Content               **عااااااااجل\\n\\n\\nكتائب القسام: تمكن مجاهدونا...\n",
              "Message ID                                                        50960\n",
              "Views                                                             86606\n",
              "Reactions                                       🫡 998 🔥 218 ❤ 124 👍 31 \n",
              "Shares                                                               42\n",
              "Media                                                             False\n",
              "Url                                         https://t.me/meshheek/50960\n",
              "Comments List                                                        []\n",
              "Reactions_count                                                    1371\n",
              "Comments Count                                                        2\n",
              "Total Interactions                                                88021\n",
              "Name: 2024-09-23 08:47:10, dtype: object"
            ],
            "text/html": [
              "<div>\n",
              "<style scoped>\n",
              "    .dataframe tbody tr th:only-of-type {\n",
              "        vertical-align: middle;\n",
              "    }\n",
              "\n",
              "    .dataframe tbody tr th {\n",
              "        vertical-align: top;\n",
              "    }\n",
              "\n",
              "    .dataframe thead th {\n",
              "        text-align: right;\n",
              "    }\n",
              "</style>\n",
              "<table border=\"1\" class=\"dataframe\">\n",
              "  <thead>\n",
              "    <tr style=\"text-align: right;\">\n",
              "      <th></th>\n",
              "      <th>2024-09-23 08:47:10</th>\n",
              "    </tr>\n",
              "  </thead>\n",
              "  <tbody>\n",
              "    <tr>\n",
              "      <th>Type</th>\n",
              "      <td>text</td>\n",
              "    </tr>\n",
              "    <tr>\n",
              "      <th>Group</th>\n",
              "      <td>meshheek</td>\n",
              "    </tr>\n",
              "    <tr>\n",
              "      <th>Author ID</th>\n",
              "      <td>-1001200257707</td>\n",
              "    </tr>\n",
              "    <tr>\n",
              "      <th>Content</th>\n",
              "      <td>**عااااااااجل\\n\\n\\nكتائب القسام: تمكن مجاهدونا...</td>\n",
              "    </tr>\n",
              "    <tr>\n",
              "      <th>Message ID</th>\n",
              "      <td>50960</td>\n",
              "    </tr>\n",
              "    <tr>\n",
              "      <th>Views</th>\n",
              "      <td>86606</td>\n",
              "    </tr>\n",
              "    <tr>\n",
              "      <th>Reactions</th>\n",
              "      <td>🫡 998 🔥 218 ❤ 124 👍 31</td>\n",
              "    </tr>\n",
              "    <tr>\n",
              "      <th>Shares</th>\n",
              "      <td>42</td>\n",
              "    </tr>\n",
              "    <tr>\n",
              "      <th>Media</th>\n",
              "      <td>False</td>\n",
              "    </tr>\n",
              "    <tr>\n",
              "      <th>Url</th>\n",
              "      <td>https://t.me/meshheek/50960</td>\n",
              "    </tr>\n",
              "    <tr>\n",
              "      <th>Comments List</th>\n",
              "      <td>[]</td>\n",
              "    </tr>\n",
              "    <tr>\n",
              "      <th>Reactions_count</th>\n",
              "      <td>1371</td>\n",
              "    </tr>\n",
              "    <tr>\n",
              "      <th>Comments Count</th>\n",
              "      <td>2</td>\n",
              "    </tr>\n",
              "    <tr>\n",
              "      <th>Total Interactions</th>\n",
              "      <td>88021</td>\n",
              "    </tr>\n",
              "  </tbody>\n",
              "</table>\n",
              "</div><br><label><b>dtype:</b> object</label>"
            ]
          },
          "metadata": {},
          "execution_count": 33
        }
      ]
    },
    {
      "cell_type": "markdown",
      "source": [
        "- The highest post reaction was on 23-09-2024 on 'Meshheek' with 86K views and 1371 reactions![image_2024-10-03_000240331.png](data:image/png;base64,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)"
      ],
      "metadata": {
        "id": "PmcWhDbyCJg8"
      }
    }
  ]
}